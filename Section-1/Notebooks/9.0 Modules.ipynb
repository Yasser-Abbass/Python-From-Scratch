{
 "cells": [
  {
   "cell_type": "markdown",
   "metadata": {},
   "source": [
    "# <center>Modules"
   ]
  },
  {
   "cell_type": "code",
   "execution_count": 1,
   "metadata": {},
   "outputs": [],
   "source": [
    "import utils"
   ]
  },
  {
   "cell_type": "code",
   "execution_count": 2,
   "metadata": {},
   "outputs": [
    {
     "ename": "ModuleNotFoundError",
     "evalue": "No module named 'utils3'",
     "output_type": "error",
     "traceback": [
      "\u001b[1;31m---------------------------------------------------------------------------\u001b[0m",
      "\u001b[1;31mModuleNotFoundError\u001b[0m                       Traceback (most recent call last)",
      "\u001b[1;32m<ipython-input-2-018ca5c2c9de>\u001b[0m in \u001b[0;36m<module>\u001b[1;34m\u001b[0m\n\u001b[1;32m----> 1\u001b[1;33m \u001b[1;32mimport\u001b[0m \u001b[0mutils3\u001b[0m\u001b[1;33m\u001b[0m\u001b[1;33m\u001b[0m\u001b[0m\n\u001b[0m",
      "\u001b[1;31mModuleNotFoundError\u001b[0m: No module named 'utils3'"
     ]
    }
   ],
   "source": [
    "import utils3"
   ]
  },
  {
   "cell_type": "code",
   "execution_count": 3,
   "metadata": {},
   "outputs": [
    {
     "data": {
      "text/plain": [
       "25"
      ]
     },
     "execution_count": 3,
     "metadata": {},
     "output_type": "execute_result"
    }
   ],
   "source": [
    "utils.add_two(15, 10)"
   ]
  },
  {
   "cell_type": "code",
   "execution_count": 4,
   "metadata": {},
   "outputs": [],
   "source": [
    "from utils import *"
   ]
  },
  {
   "cell_type": "code",
   "execution_count": 5,
   "metadata": {},
   "outputs": [
    {
     "data": {
      "text/plain": [
       "25"
      ]
     },
     "execution_count": 5,
     "metadata": {},
     "output_type": "execute_result"
    }
   ],
   "source": [
    "add_two(15, 10)"
   ]
  },
  {
   "cell_type": "code",
   "execution_count": 6,
   "metadata": {},
   "outputs": [
    {
     "data": {
      "text/plain": [
       "[0, 1, 1, 2, 3, 5, 8, 13, 21, 34, 55, 89]"
      ]
     },
     "execution_count": 6,
     "metadata": {},
     "output_type": "execute_result"
    }
   ],
   "source": [
    "fib(100)"
   ]
  },
  {
   "cell_type": "code",
   "execution_count": 7,
   "metadata": {},
   "outputs": [],
   "source": [
    "from utils import add_two, fib"
   ]
  },
  {
   "cell_type": "code",
   "execution_count": 8,
   "metadata": {},
   "outputs": [
    {
     "data": {
      "text/plain": [
       "['__builtins__',\n",
       " '__cached__',\n",
       " '__doc__',\n",
       " '__file__',\n",
       " '__loader__',\n",
       " '__name__',\n",
       " '__package__',\n",
       " '__spec__',\n",
       " 'add_two',\n",
       " 'fib']"
      ]
     },
     "execution_count": 8,
     "metadata": {},
     "output_type": "execute_result"
    }
   ],
   "source": [
    "dir(utils)"
   ]
  },
  {
   "cell_type": "code",
   "execution_count": 9,
   "metadata": {},
   "outputs": [],
   "source": [
    "import utils as u"
   ]
  },
  {
   "cell_type": "code",
   "execution_count": 10,
   "metadata": {},
   "outputs": [
    {
     "data": {
      "text/plain": [
       "22"
      ]
     },
     "execution_count": 10,
     "metadata": {},
     "output_type": "execute_result"
    }
   ],
   "source": [
    "u.add_two(12, 10)"
   ]
  },
  {
   "cell_type": "code",
   "execution_count": null,
   "metadata": {},
   "outputs": [],
   "source": []
  },
  {
   "cell_type": "code",
   "execution_count": 11,
   "metadata": {},
   "outputs": [
    {
     "name": "stdout",
     "output_type": "stream",
     "text": [
      "\n",
      "Usage:   \n",
      "  pip <command> [options]\n",
      "\n",
      "Commands:\n",
      "  install                     Install packages.\n",
      "  download                    Download packages.\n",
      "  uninstall                   Uninstall packages.\n",
      "  freeze                      Output installed packages in requirements format.\n",
      "  list                        List installed packages.\n",
      "  show                        Show information about installed packages.\n",
      "  check                       Verify installed packages have compatible dependencies.\n",
      "  config                      Manage local and global configuration.\n",
      "  search                      Search PyPI for packages.\n",
      "  wheel                       Build wheels from your requirements.\n",
      "  hash                        Compute hashes of package archives.\n",
      "  completion                  A helper command used for command completion.\n",
      "  debug                       Show information useful for debugging.\n",
      "  help                        Show help for commands.\n",
      "\n",
      "General Options:\n",
      "  -h, --help                  Show help.\n",
      "  --isolated                  Run pip in an isolated mode, ignoring\n",
      "                              environment variables and user configuration.\n",
      "  -v, --verbose               Give more output. Option is additive, and can be\n",
      "                              used up to 3 times.\n",
      "  -V, --version               Show version and exit.\n",
      "  -q, --quiet                 Give less output. Option is additive, and can be\n",
      "                              used up to 3 times (corresponding to WARNING,\n",
      "                              ERROR, and CRITICAL logging levels).\n",
      "  --log <path>                Path to a verbose appending log.\n",
      "  --proxy <proxy>             Specify a proxy in the form\n",
      "                              [user:passwd@]proxy.server:port.\n",
      "  --retries <retries>         Maximum number of retries each connection should\n",
      "                              attempt (default 5 times).\n",
      "  --timeout <sec>             Set the socket timeout (default 15 seconds).\n",
      "  --exists-action <action>    Default action when a path already exists:\n",
      "                              (s)witch, (i)gnore, (w)ipe, (b)ackup, (a)bort.\n",
      "  --trusted-host <hostname>   Mark this host as trusted, even though it does\n",
      "                              not have valid or any HTTPS.\n",
      "  --cert <path>               Path to alternate CA bundle.\n",
      "  --client-cert <path>        Path to SSL client certificate, a single file\n",
      "                              containing the private key and the certificate\n",
      "                              in PEM format.\n",
      "  --cache-dir <dir>           Store the cache data in <dir>.\n",
      "  --no-cache-dir              Disable the cache.\n",
      "  --disable-pip-version-check\n",
      "                              Don't periodically check PyPI to determine\n",
      "                              whether a new version of pip is available for\n",
      "                              download. Implied with --no-index.\n",
      "  --no-color                  Suppress colored output\n"
     ]
    }
   ],
   "source": [
    "!pip"
   ]
  },
  {
   "cell_type": "code",
   "execution_count": 12,
   "metadata": {},
   "outputs": [
    {
     "name": "stdout",
     "output_type": "stream",
     "text": [
      "gTTS (2.1.1)        - gTTS (Google Text-to-Speech), a Python library and CLI tool to interface with Google Translate text-to-speech API\n",
      "Flask-gTTS (0.14)   - gTTS Google text to speech flask extension\n",
      "Django-Gtts (0.3)   - gTTS google text-to-speech django app\n",
      "gTTS-token (1.1.3)  - Calculates a token to run the Google Translate text to speech\n",
      "  INSTALLED: 1.1.3 (latest)\n",
      "wired-tts (0.2.0)   - \"gTTS based Wired story reader.\"\n"
     ]
    }
   ],
   "source": [
    "!pip search gtts"
   ]
  },
  {
   "cell_type": "code",
   "execution_count": 13,
   "metadata": {},
   "outputs": [
    {
     "name": "stdout",
     "output_type": "stream",
     "text": [
      "Collecting gtts\n",
      "  Using cached https://files.pythonhosted.org/packages/a1/0c/4ca77eca3b739a4a08360930643f58d714e302fee0d2f8c654e67d9af8e7/gTTS-2.1.1-py3-none-any.whl\n",
      "Requirement already satisfied: requests in c:\\users\\yasso\\appdata\\local\\programs\\python\\python38-32\\lib\\site-packages (from gtts) (2.23.0)\n",
      "Requirement already satisfied: six in c:\\users\\yasso\\appdata\\local\\programs\\python\\python38-32\\lib\\site-packages (from gtts) (1.15.0)\n",
      "Requirement already satisfied: gtts-token>=1.1.3 in c:\\users\\yasso\\appdata\\local\\programs\\python\\python38-32\\lib\\site-packages (from gtts) (1.1.3)\n",
      "Requirement already satisfied: click in c:\\users\\yasso\\appdata\\local\\programs\\python\\python38-32\\lib\\site-packages (from gtts) (7.1.2)\n",
      "Requirement already satisfied: beautifulsoup4 in c:\\users\\yasso\\appdata\\local\\programs\\python\\python38-32\\lib\\site-packages (from gtts) (4.9.1)\n",
      "Requirement already satisfied: idna<3,>=2.5 in c:\\users\\yasso\\appdata\\local\\programs\\python\\python38-32\\lib\\site-packages (from requests->gtts) (2.9)\n",
      "Requirement already satisfied: urllib3!=1.25.0,!=1.25.1,<1.26,>=1.21.1 in c:\\users\\yasso\\appdata\\local\\programs\\python\\python38-32\\lib\\site-packages (from requests->gtts) (1.25.9)\n",
      "Requirement already satisfied: chardet<4,>=3.0.2 in c:\\users\\yasso\\appdata\\local\\programs\\python\\python38-32\\lib\\site-packages (from requests->gtts) (3.0.4)\n",
      "Requirement already satisfied: certifi>=2017.4.17 in c:\\users\\yasso\\appdata\\local\\programs\\python\\python38-32\\lib\\site-packages (from requests->gtts) (2020.4.5.2)\n",
      "Requirement already satisfied: soupsieve>1.2 in c:\\users\\yasso\\appdata\\local\\programs\\python\\python38-32\\lib\\site-packages (from beautifulsoup4->gtts) (2.0.1)\n",
      "Installing collected packages: gtts"
     ]
    },
    {
     "name": "stderr",
     "output_type": "stream",
     "text": [
      "WARNING: You are using pip version 19.2.3, however version 20.1.1 is available.\n",
      "You should consider upgrading via the 'python -m pip install --upgrade pip' command.\n"
     ]
    },
    {
     "name": "stdout",
     "output_type": "stream",
     "text": [
      "\n",
      "Successfully installed gtts-2.1.1\n"
     ]
    }
   ],
   "source": [
    "!pip install gtts"
   ]
  },
  {
   "cell_type": "code",
   "execution_count": 14,
   "metadata": {},
   "outputs": [
    {
     "name": "stdout",
     "output_type": "stream",
     "text": [
      "^C\n"
     ]
    }
   ],
   "source": [
    "!pip uninstall gtts"
   ]
  },
  {
   "cell_type": "code",
   "execution_count": 15,
   "metadata": {},
   "outputs": [
    {
     "name": "stdout",
     "output_type": "stream",
     "text": [
      "Uninstalling gTTS-2.1.1:\n",
      "  Successfully uninstalled gTTS-2.1.1\n"
     ]
    }
   ],
   "source": [
    "!pip uninstall gtts -y"
   ]
  },
  {
   "cell_type": "code",
   "execution_count": 16,
   "metadata": {},
   "outputs": [
    {
     "name": "stderr",
     "output_type": "stream",
     "text": [
      "WARNING: You are using pip version 19.2.3, however version 20.1.1 is available."
     ]
    },
    {
     "name": "stdout",
     "output_type": "stream",
     "text": [
      "Package           Version   \n",
      "----------------- ----------\n",
      "attrs             19.3.0    \n",
      "backcall          0.2.0     \n",
      "beautifulsoup4    4.9.1     \n",
      "bleach            3.1.5     \n",
      "certifi           2020.4.5.2\n",
      "chardet           3.0.4     \n",
      "click             7.1.2     \n",
      "colorama          0.4.3     \n",
      "decorator         4.4.2     \n",
      "defusedxml        0.6.0     \n",
      "entrypoints       0.3       \n",
      "gTTS-token        1.1.3     \n",
      "idna              2.9       \n",
      "ipykernel         5.3.0     \n",
      "ipython           7.15.0    \n",
      "ipython-genutils  0.2.0     "
     ]
    },
    {
     "name": "stderr",
     "output_type": "stream",
     "text": [
      "\n",
      "You should consider upgrading via the 'python -m pip install --upgrade pip' command.\n"
     ]
    },
    {
     "name": "stdout",
     "output_type": "stream",
     "text": [
      "\n",
      "jedi              0.17.0    \n",
      "Jinja2            2.11.2    \n",
      "json5             0.9.5     \n",
      "jsonschema        3.2.0     \n",
      "jupyter-client    6.1.3     \n",
      "jupyter-core      4.6.3     \n",
      "jupyterlab        2.1.4     \n",
      "jupyterlab-server 1.1.5     \n",
      "MarkupSafe        1.1.1     \n",
      "mistune           0.8.4     \n",
      "nbconvert         5.6.1     \n",
      "nbformat          5.0.6     \n",
      "notebook          6.0.3     \n",
      "packaging         20.4      \n",
      "pandocfilters     1.4.2     \n",
      "parso             0.7.0     \n",
      "pickleshare       0.7.5     \n",
      "pip               19.2.3    \n",
      "prometheus-client 0.8.0     \n",
      "prompt-toolkit    3.0.5     \n",
      "Pygments          2.6.1     \n",
      "pyparsing         2.4.7     \n",
      "pyrsistent        0.16.0    \n",
      "python-dateutil   2.8.1     \n",
      "pywin32           227       \n",
      "pywinpty          0.5.7     \n",
      "pyzmq             19.0.1    \n",
      "requests          2.23.0    \n",
      "Send2Trash        1.5.0     \n",
      "setuptools        41.2.0    \n",
      "six               1.15.0    \n",
      "soupsieve         2.0.1     \n",
      "terminado         0.8.3     \n",
      "testpath          0.4.4     \n",
      "tornado           6.0.4     \n",
      "traitlets         4.3.3     \n",
      "urllib3           1.25.9    \n",
      "wcwidth           0.2.3     \n",
      "webencodings      0.5.1     \n"
     ]
    }
   ],
   "source": [
    "!pip list "
   ]
  },
  {
   "cell_type": "code",
   "execution_count": 17,
   "metadata": {},
   "outputs": [
    {
     "name": "stdout",
     "output_type": "stream",
     "text": [
      "Package    Version Latest Type "
     ]
    },
    {
     "name": "stderr",
     "output_type": "stream",
     "text": [
      "WARNING: You are using pip version 19.2.3, however version 20.1.1 is available.\n",
      "You should consider upgrading via the 'python -m pip install --upgrade pip' command.\n"
     ]
    },
    {
     "name": "stdout",
     "output_type": "stream",
     "text": [
      "\n",
      "---------- ------- ------ -----\n",
      "nbformat   5.0.6   5.0.7  wheel\n",
      "pip        19.2.3  20.1.1 wheel\n",
      "pywin32    227     228    wheel\n",
      "setuptools 41.2.0  47.1.1 wheel\n",
      "wcwidth    0.2.3   0.2.4  wheel\n"
     ]
    }
   ],
   "source": [
    "!pip list -o"
   ]
  },
  {
   "cell_type": "code",
   "execution_count": 18,
   "metadata": {},
   "outputs": [
    {
     "name": "stdout",
     "output_type": "stream",
     "text": [
      "Collecting wcwidth"
     ]
    },
    {
     "name": "stderr",
     "output_type": "stream",
     "text": [
      "WARNING: You are using pip version 19.2.3, however version 20.1.1 is available.\n",
      "You should consider upgrading via the 'python -m pip install --upgrade pip' command.\n"
     ]
    },
    {
     "name": "stdout",
     "output_type": "stream",
     "text": [
      "\n",
      "  Downloading https://files.pythonhosted.org/packages/ef/94/a17155b400812f0558093c6fb99f92ba823e24757d5884e3ec60f5e81319/wcwidth-0.2.4-py2.py3-none-any.whl\n",
      "Installing collected packages: wcwidth\n",
      "  Found existing installation: wcwidth 0.2.3\n",
      "    Uninstalling wcwidth-0.2.3:\n",
      "      Successfully uninstalled wcwidth-0.2.3\n",
      "Successfully installed wcwidth-0.2.4\n"
     ]
    }
   ],
   "source": [
    "!pip install -U wcwidth    "
   ]
  },
  {
   "cell_type": "code",
   "execution_count": 19,
   "metadata": {},
   "outputs": [
    {
     "name": "stdout",
     "output_type": "stream",
     "text": [
      "Package    Version Latest Type "
     ]
    },
    {
     "name": "stderr",
     "output_type": "stream",
     "text": [
      "WARNING: You are using pip version 19.2.3, however version 20.1.1 is available.\n",
      "You should consider upgrading via the 'python -m pip install --upgrade pip' command.\n"
     ]
    },
    {
     "name": "stdout",
     "output_type": "stream",
     "text": [
      "\n",
      "---------- ------- ------ -----\n",
      "nbformat   5.0.6   5.0.7  wheel\n",
      "pip        19.2.3  20.1.1 wheel\n",
      "pywin32    227     228    wheel\n",
      "setuptools 41.2.0  47.1.1 wheel\n"
     ]
    }
   ],
   "source": [
    "!pip list -o"
   ]
  },
  {
   "cell_type": "code",
   "execution_count": 20,
   "metadata": {},
   "outputs": [
    {
     "name": "stdout",
     "output_type": "stream",
     "text": [
      "attrs==19.3.0\n",
      "backcall==0.2.0\n",
      "beautifulsoup4==4.9.1\n",
      "bleach==3.1.5\n",
      "certifi==2020.4.5.2\n",
      "chardet==3.0.4\n",
      "click==7.1.2\n",
      "colorama==0.4.3\n",
      "decorator==4.4.2\n",
      "defusedxml==0.6.0\n",
      "entrypoints==0.3\n",
      "gTTS-token==1.1.3\n",
      "idna==2.9\n",
      "ipykernel==5.3.0\n",
      "ipython==7.15.0\n",
      "ipython-genutils==0.2.0\n",
      "jedi==0.17.0\n",
      "Jinja2==2.11.2\n",
      "json5==0.9.5\n",
      "jsonschema==3.2.0\n",
      "jupyter-client==6.1.3\n",
      "jupyter-core==4.6.3\n",
      "jupyterlab==2.1.4\n",
      "jupyterlab-server==1.1.5\n",
      "MarkupSafe==1.1.1\n",
      "mistune==0.8.4\n",
      "nbconvert==5.6.1\n",
      "nbformat==5.0.6\n",
      "notebook==6.0.3\n",
      "packaging==20.4\n",
      "pandocfilters==1.4.2\n",
      "parso==0.7.0\n",
      "pickleshare==0.7.5\n",
      "prometheus-client==0.8.0\n",
      "prompt-toolkit==3.0.5\n",
      "Pygments==2.6.1\n",
      "pyparsing==2.4.7\n",
      "pyrsistent==0.16.0\n",
      "python-dateutil==2.8.1\n",
      "pywin32==227\n",
      "pywinpty==0.5.7\n",
      "pyzmq==19.0.1\n",
      "requests==2.23.0\n",
      "Send2Trash==1.5.0\n",
      "six==1.15.0\n",
      "soupsieve==2.0.1\n",
      "terminado==0.8.3\n",
      "testpath==0.4.4\n",
      "tornado==6.0.4\n",
      "traitlets==4.3.3\n",
      "urllib3==1.25.9\n",
      "wcwidth==0.2.4\n",
      "webencodings==0.5.1\n"
     ]
    }
   ],
   "source": [
    "!pip freeze"
   ]
  },
  {
   "cell_type": "code",
   "execution_count": 1,
   "metadata": {},
   "outputs": [],
   "source": [
    "!pip freeze > req.txt"
   ]
  },
  {
   "cell_type": "code",
   "execution_count": 22,
   "metadata": {},
   "outputs": [
    {
     "name": "stdout",
     "output_type": "stream",
     "text": [
      "Requirement already satisfied: attrs==19.3.0 in c:\\users\\yasso\\appdata\\local\\programs\\python\\python38-32\\lib\\site-packages (from -r requirments.txt (line 1)) (19.3.0)"
     ]
    },
    {
     "name": "stderr",
     "output_type": "stream",
     "text": [
      "WARNING: You are using pip version 19.2.3, however version 20.1.1 is available.\n",
      "You should consider upgrading via the 'python -m pip install --upgrade pip' command.\n"
     ]
    },
    {
     "name": "stdout",
     "output_type": "stream",
     "text": [
      "\n",
      "Requirement already satisfied: backcall==0.2.0 in c:\\users\\yasso\\appdata\\local\\programs\\python\\python38-32\\lib\\site-packages (from -r requirments.txt (line 2)) (0.2.0)\n",
      "Requirement already satisfied: beautifulsoup4==4.9.1 in c:\\users\\yasso\\appdata\\local\\programs\\python\\python38-32\\lib\\site-packages (from -r requirments.txt (line 3)) (4.9.1)\n",
      "Requirement already satisfied: bleach==3.1.5 in c:\\users\\yasso\\appdata\\local\\programs\\python\\python38-32\\lib\\site-packages (from -r requirments.txt (line 4)) (3.1.5)\n",
      "Requirement already satisfied: certifi==2020.4.5.2 in c:\\users\\yasso\\appdata\\local\\programs\\python\\python38-32\\lib\\site-packages (from -r requirments.txt (line 5)) (2020.4.5.2)\n",
      "Requirement already satisfied: chardet==3.0.4 in c:\\users\\yasso\\appdata\\local\\programs\\python\\python38-32\\lib\\site-packages (from -r requirments.txt (line 6)) (3.0.4)\n",
      "Requirement already satisfied: click==7.1.2 in c:\\users\\yasso\\appdata\\local\\programs\\python\\python38-32\\lib\\site-packages (from -r requirments.txt (line 7)) (7.1.2)\n",
      "Requirement already satisfied: colorama==0.4.3 in c:\\users\\yasso\\appdata\\local\\programs\\python\\python38-32\\lib\\site-packages (from -r requirments.txt (line 8)) (0.4.3)\n",
      "Requirement already satisfied: decorator==4.4.2 in c:\\users\\yasso\\appdata\\local\\programs\\python\\python38-32\\lib\\site-packages (from -r requirments.txt (line 9)) (4.4.2)\n",
      "Requirement already satisfied: defusedxml==0.6.0 in c:\\users\\yasso\\appdata\\local\\programs\\python\\python38-32\\lib\\site-packages (from -r requirments.txt (line 10)) (0.6.0)\n",
      "Requirement already satisfied: entrypoints==0.3 in c:\\users\\yasso\\appdata\\local\\programs\\python\\python38-32\\lib\\site-packages (from -r requirments.txt (line 11)) (0.3)\n",
      "Requirement already satisfied: gTTS-token==1.1.3 in c:\\users\\yasso\\appdata\\local\\programs\\python\\python38-32\\lib\\site-packages (from -r requirments.txt (line 12)) (1.1.3)\n",
      "Requirement already satisfied: idna==2.9 in c:\\users\\yasso\\appdata\\local\\programs\\python\\python38-32\\lib\\site-packages (from -r requirments.txt (line 13)) (2.9)\n",
      "Requirement already satisfied: ipykernel==5.3.0 in c:\\users\\yasso\\appdata\\local\\programs\\python\\python38-32\\lib\\site-packages (from -r requirments.txt (line 14)) (5.3.0)\n",
      "Requirement already satisfied: ipython==7.15.0 in c:\\users\\yasso\\appdata\\local\\programs\\python\\python38-32\\lib\\site-packages (from -r requirments.txt (line 15)) (7.15.0)\n",
      "Requirement already satisfied: ipython-genutils==0.2.0 in c:\\users\\yasso\\appdata\\local\\programs\\python\\python38-32\\lib\\site-packages (from -r requirments.txt (line 16)) (0.2.0)\n",
      "Requirement already satisfied: jedi==0.17.0 in c:\\users\\yasso\\appdata\\local\\programs\\python\\python38-32\\lib\\site-packages (from -r requirments.txt (line 17)) (0.17.0)\n",
      "Requirement already satisfied: Jinja2==2.11.2 in c:\\users\\yasso\\appdata\\local\\programs\\python\\python38-32\\lib\\site-packages (from -r requirments.txt (line 18)) (2.11.2)\n",
      "Requirement already satisfied: json5==0.9.5 in c:\\users\\yasso\\appdata\\local\\programs\\python\\python38-32\\lib\\site-packages (from -r requirments.txt (line 19)) (0.9.5)\n",
      "Requirement already satisfied: jsonschema==3.2.0 in c:\\users\\yasso\\appdata\\local\\programs\\python\\python38-32\\lib\\site-packages (from -r requirments.txt (line 20)) (3.2.0)\n",
      "Requirement already satisfied: jupyter-client==6.1.3 in c:\\users\\yasso\\appdata\\local\\programs\\python\\python38-32\\lib\\site-packages (from -r requirments.txt (line 21)) (6.1.3)\n",
      "Requirement already satisfied: jupyter-core==4.6.3 in c:\\users\\yasso\\appdata\\local\\programs\\python\\python38-32\\lib\\site-packages (from -r requirments.txt (line 22)) (4.6.3)\n",
      "Requirement already satisfied: jupyterlab==2.1.4 in c:\\users\\yasso\\appdata\\local\\programs\\python\\python38-32\\lib\\site-packages (from -r requirments.txt (line 23)) (2.1.4)\n",
      "Requirement already satisfied: jupyterlab-server==1.1.5 in c:\\users\\yasso\\appdata\\local\\programs\\python\\python38-32\\lib\\site-packages (from -r requirments.txt (line 24)) (1.1.5)\n",
      "Requirement already satisfied: MarkupSafe==1.1.1 in c:\\users\\yasso\\appdata\\local\\programs\\python\\python38-32\\lib\\site-packages (from -r requirments.txt (line 25)) (1.1.1)\n",
      "Requirement already satisfied: mistune==0.8.4 in c:\\users\\yasso\\appdata\\local\\programs\\python\\python38-32\\lib\\site-packages (from -r requirments.txt (line 26)) (0.8.4)\n",
      "Requirement already satisfied: nbconvert==5.6.1 in c:\\users\\yasso\\appdata\\local\\programs\\python\\python38-32\\lib\\site-packages (from -r requirments.txt (line 27)) (5.6.1)\n",
      "Requirement already satisfied: nbformat==5.0.6 in c:\\users\\yasso\\appdata\\local\\programs\\python\\python38-32\\lib\\site-packages (from -r requirments.txt (line 28)) (5.0.6)\n",
      "Requirement already satisfied: notebook==6.0.3 in c:\\users\\yasso\\appdata\\local\\programs\\python\\python38-32\\lib\\site-packages (from -r requirments.txt (line 29)) (6.0.3)\n",
      "Requirement already satisfied: packaging==20.4 in c:\\users\\yasso\\appdata\\local\\programs\\python\\python38-32\\lib\\site-packages (from -r requirments.txt (line 30)) (20.4)\n",
      "Requirement already satisfied: pandocfilters==1.4.2 in c:\\users\\yasso\\appdata\\local\\programs\\python\\python38-32\\lib\\site-packages (from -r requirments.txt (line 31)) (1.4.2)\n",
      "Requirement already satisfied: parso==0.7.0 in c:\\users\\yasso\\appdata\\local\\programs\\python\\python38-32\\lib\\site-packages (from -r requirments.txt (line 32)) (0.7.0)\n",
      "Requirement already satisfied: pickleshare==0.7.5 in c:\\users\\yasso\\appdata\\local\\programs\\python\\python38-32\\lib\\site-packages (from -r requirments.txt (line 33)) (0.7.5)\n",
      "Requirement already satisfied: prometheus-client==0.8.0 in c:\\users\\yasso\\appdata\\local\\programs\\python\\python38-32\\lib\\site-packages (from -r requirments.txt (line 34)) (0.8.0)\n",
      "Requirement already satisfied: prompt-toolkit==3.0.5 in c:\\users\\yasso\\appdata\\local\\programs\\python\\python38-32\\lib\\site-packages (from -r requirments.txt (line 35)) (3.0.5)\n",
      "Requirement already satisfied: Pygments==2.6.1 in c:\\users\\yasso\\appdata\\local\\programs\\python\\python38-32\\lib\\site-packages (from -r requirments.txt (line 36)) (2.6.1)\n",
      "Requirement already satisfied: pyparsing==2.4.7 in c:\\users\\yasso\\appdata\\local\\programs\\python\\python38-32\\lib\\site-packages (from -r requirments.txt (line 37)) (2.4.7)\n",
      "Requirement already satisfied: pyrsistent==0.16.0 in c:\\users\\yasso\\appdata\\local\\programs\\python\\python38-32\\lib\\site-packages (from -r requirments.txt (line 38)) (0.16.0)\n",
      "Requirement already satisfied: python-dateutil==2.8.1 in c:\\users\\yasso\\appdata\\local\\programs\\python\\python38-32\\lib\\site-packages (from -r requirments.txt (line 39)) (2.8.1)\n",
      "Requirement already satisfied: pywin32==227 in c:\\users\\yasso\\appdata\\local\\programs\\python\\python38-32\\lib\\site-packages (from -r requirments.txt (line 40)) (227)\n",
      "Requirement already satisfied: pywinpty==0.5.7 in c:\\users\\yasso\\appdata\\local\\programs\\python\\python38-32\\lib\\site-packages (from -r requirments.txt (line 41)) (0.5.7)\n",
      "Requirement already satisfied: pyzmq==19.0.1 in c:\\users\\yasso\\appdata\\local\\programs\\python\\python38-32\\lib\\site-packages (from -r requirments.txt (line 42)) (19.0.1)\n",
      "Requirement already satisfied: requests==2.23.0 in c:\\users\\yasso\\appdata\\local\\programs\\python\\python38-32\\lib\\site-packages (from -r requirments.txt (line 43)) (2.23.0)\n",
      "Requirement already satisfied: Send2Trash==1.5.0 in c:\\users\\yasso\\appdata\\local\\programs\\python\\python38-32\\lib\\site-packages (from -r requirments.txt (line 44)) (1.5.0)\n",
      "Requirement already satisfied: six==1.15.0 in c:\\users\\yasso\\appdata\\local\\programs\\python\\python38-32\\lib\\site-packages (from -r requirments.txt (line 45)) (1.15.0)\n",
      "Requirement already satisfied: soupsieve==2.0.1 in c:\\users\\yasso\\appdata\\local\\programs\\python\\python38-32\\lib\\site-packages (from -r requirments.txt (line 46)) (2.0.1)\n",
      "Requirement already satisfied: terminado==0.8.3 in c:\\users\\yasso\\appdata\\local\\programs\\python\\python38-32\\lib\\site-packages (from -r requirments.txt (line 47)) (0.8.3)\n",
      "Requirement already satisfied: testpath==0.4.4 in c:\\users\\yasso\\appdata\\local\\programs\\python\\python38-32\\lib\\site-packages (from -r requirments.txt (line 48)) (0.4.4)\n",
      "Requirement already satisfied: tornado==6.0.4 in c:\\users\\yasso\\appdata\\local\\programs\\python\\python38-32\\lib\\site-packages (from -r requirments.txt (line 49)) (6.0.4)\n",
      "Requirement already satisfied: traitlets==4.3.3 in c:\\users\\yasso\\appdata\\local\\programs\\python\\python38-32\\lib\\site-packages (from -r requirments.txt (line 50)) (4.3.3)\n",
      "Requirement already satisfied: urllib3==1.25.9 in c:\\users\\yasso\\appdata\\local\\programs\\python\\python38-32\\lib\\site-packages (from -r requirments.txt (line 51)) (1.25.9)\n",
      "Requirement already satisfied: wcwidth==0.2.4 in c:\\users\\yasso\\appdata\\local\\programs\\python\\python38-32\\lib\\site-packages (from -r requirments.txt (line 52)) (0.2.4)\n",
      "Requirement already satisfied: webencodings==0.5.1 in c:\\users\\yasso\\appdata\\local\\programs\\python\\python38-32\\lib\\site-packages (from -r requirments.txt (line 53)) (0.5.1)\n",
      "Requirement already satisfied: setuptools>=18.5 in c:\\users\\yasso\\appdata\\local\\programs\\python\\python38-32\\lib\\site-packages (from ipython==7.15.0->-r requirments.txt (line 15)) (41.2.0)\n"
     ]
    }
   ],
   "source": [
    "!pip install -r requirments.txt"
   ]
  }
 ],
 "metadata": {
  "kernelspec": {
   "display_name": "Python 3",
   "language": "python",
   "name": "python3"
  },
  "language_info": {
   "codemirror_mode": {
    "name": "ipython",
    "version": 3
   },
   "file_extension": ".py",
   "mimetype": "text/x-python",
   "name": "python",
   "nbconvert_exporter": "python",
   "pygments_lexer": "ipython3",
   "version": "3.8.5"
  }
 },
 "nbformat": 4,
 "nbformat_minor": 4
}
