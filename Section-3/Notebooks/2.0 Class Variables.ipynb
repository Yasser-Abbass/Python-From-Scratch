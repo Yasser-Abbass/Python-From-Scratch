{
 "cells": [
  {
   "cell_type": "markdown",
   "metadata": {},
   "source": [
    "# <center>Class Variables"
   ]
  },
  {
   "cell_type": "code",
   "execution_count": 1,
   "metadata": {},
   "outputs": [],
   "source": [
    "class Employee:\n",
    "    salary_raise = 1.07\n",
    "    \n",
    "    def __init__(self, firstname, lastname, salary):\n",
    "        self.firstname = firstname\n",
    "        self.lastname = lastname\n",
    "        self.salary = salary\n",
    "        \n",
    "    def get_raise(self):\n",
    "        return self.salary * self.salary_raise"
   ]
  },
  {
   "cell_type": "code",
   "execution_count": 2,
   "metadata": {},
   "outputs": [],
   "source": [
    "emp1 = Employee('Tom', 'Hardy', 21000)"
   ]
  },
  {
   "cell_type": "code",
   "execution_count": 3,
   "metadata": {},
   "outputs": [
    {
     "data": {
      "text/plain": [
       "22470.0"
      ]
     },
     "execution_count": 3,
     "metadata": {},
     "output_type": "execute_result"
    }
   ],
   "source": [
    "emp1.get_raise()"
   ]
  },
  {
   "cell_type": "code",
   "execution_count": 4,
   "metadata": {},
   "outputs": [],
   "source": [
    "emp2 = Employee('Tim', 'Hary', 23000)"
   ]
  },
  {
   "cell_type": "code",
   "execution_count": 5,
   "metadata": {},
   "outputs": [
    {
     "data": {
      "text/plain": [
       "24610.0"
      ]
     },
     "execution_count": 5,
     "metadata": {},
     "output_type": "execute_result"
    }
   ],
   "source": [
    "emp2.get_raise()"
   ]
  },
  {
   "cell_type": "code",
   "execution_count": 6,
   "metadata": {},
   "outputs": [
    {
     "data": {
      "text/plain": [
       "1.07"
      ]
     },
     "execution_count": 6,
     "metadata": {},
     "output_type": "execute_result"
    }
   ],
   "source": [
    "Employee.salary_raise"
   ]
  },
  {
   "cell_type": "code",
   "execution_count": 7,
   "metadata": {},
   "outputs": [],
   "source": [
    "emp1.salary_raise = 1.09"
   ]
  },
  {
   "cell_type": "code",
   "execution_count": 8,
   "metadata": {},
   "outputs": [
    {
     "data": {
      "text/plain": [
       "22890.0"
      ]
     },
     "execution_count": 8,
     "metadata": {},
     "output_type": "execute_result"
    }
   ],
   "source": [
    "emp1.get_raise()"
   ]
  },
  {
   "cell_type": "code",
   "execution_count": 9,
   "metadata": {},
   "outputs": [
    {
     "data": {
      "text/plain": [
       "1.07"
      ]
     },
     "execution_count": 9,
     "metadata": {},
     "output_type": "execute_result"
    }
   ],
   "source": [
    "Employee.salary_raise"
   ]
  },
  {
   "cell_type": "code",
   "execution_count": 10,
   "metadata": {},
   "outputs": [
    {
     "data": {
      "text/plain": [
       "{'firstname': 'Tom',\n",
       " 'lastname': 'Hardy',\n",
       " 'salary': 21000,\n",
       " 'salary_raise': 1.09}"
      ]
     },
     "execution_count": 10,
     "metadata": {},
     "output_type": "execute_result"
    }
   ],
   "source": [
    "emp1.__dict__"
   ]
  },
  {
   "cell_type": "code",
   "execution_count": 11,
   "metadata": {},
   "outputs": [
    {
     "data": {
      "text/plain": [
       "{'firstname': 'Tim', 'lastname': 'Hary', 'salary': 23000}"
      ]
     },
     "execution_count": 11,
     "metadata": {},
     "output_type": "execute_result"
    }
   ],
   "source": [
    "emp2.__dict__"
   ]
  },
  {
   "cell_type": "code",
   "execution_count": 12,
   "metadata": {},
   "outputs": [],
   "source": [
    "class Employee:\n",
    "    salary_raise = 1.07\n",
    "    \n",
    "    def __init__(self, firstname, lastname, salary):\n",
    "        self.firstname = firstname\n",
    "        self.lastname = lastname\n",
    "        self.salary = salary\n",
    "        \n",
    "    def get_raise(self):\n",
    "        return self.salary * Employee.salary_raise"
   ]
  },
  {
   "cell_type": "code",
   "execution_count": 13,
   "metadata": {},
   "outputs": [],
   "source": [
    "emp1 = Employee('Tom', 'Hardy', 21000)"
   ]
  },
  {
   "cell_type": "code",
   "execution_count": 14,
   "metadata": {},
   "outputs": [
    {
     "data": {
      "text/plain": [
       "22470.0"
      ]
     },
     "execution_count": 14,
     "metadata": {},
     "output_type": "execute_result"
    }
   ],
   "source": [
    "emp1.get_raise()"
   ]
  },
  {
   "cell_type": "code",
   "execution_count": 15,
   "metadata": {},
   "outputs": [],
   "source": [
    "emp1.salary_raise = 3"
   ]
  },
  {
   "cell_type": "code",
   "execution_count": 16,
   "metadata": {},
   "outputs": [
    {
     "data": {
      "text/plain": [
       "22470.0"
      ]
     },
     "execution_count": 16,
     "metadata": {},
     "output_type": "execute_result"
    }
   ],
   "source": [
    "emp1.get_raise()"
   ]
  },
  {
   "cell_type": "code",
   "execution_count": 17,
   "metadata": {},
   "outputs": [],
   "source": [
    "class Employee:\n",
    "    __salary_raise = 1.07\n",
    "    \n",
    "    def __init__(self, firstname, lastname, salary):\n",
    "        self.firstname = firstname\n",
    "        self.lastname = lastname\n",
    "        self.salary = salary\n",
    "        \n",
    "    def get_raise(self):\n",
    "        return self.salary * Employee.__salary_raise"
   ]
  },
  {
   "cell_type": "code",
   "execution_count": 18,
   "metadata": {},
   "outputs": [],
   "source": [
    "emp1 = Employee('Tom', 'Hardy', 21000)"
   ]
  },
  {
   "cell_type": "code",
   "execution_count": 19,
   "metadata": {},
   "outputs": [
    {
     "data": {
      "text/plain": [
       "22470.0"
      ]
     },
     "execution_count": 19,
     "metadata": {},
     "output_type": "execute_result"
    }
   ],
   "source": [
    "emp1.get_raise()"
   ]
  },
  {
   "cell_type": "code",
   "execution_count": 20,
   "metadata": {},
   "outputs": [
    {
     "ename": "AttributeError",
     "evalue": "'Employee' object has no attribute '__salary_raise'",
     "output_type": "error",
     "traceback": [
      "\u001b[1;31m---------------------------------------------------------------------------\u001b[0m",
      "\u001b[1;31mAttributeError\u001b[0m                            Traceback (most recent call last)",
      "\u001b[1;32m<ipython-input-20-f34512aff822>\u001b[0m in \u001b[0;36m<module>\u001b[1;34m\u001b[0m\n\u001b[1;32m----> 1\u001b[1;33m \u001b[0memp1\u001b[0m\u001b[1;33m.\u001b[0m\u001b[0m__salary_raise\u001b[0m\u001b[1;33m\u001b[0m\u001b[1;33m\u001b[0m\u001b[0m\n\u001b[0m",
      "\u001b[1;31mAttributeError\u001b[0m: 'Employee' object has no attribute '__salary_raise'"
     ]
    }
   ],
   "source": [
    "emp1.__salary_raise"
   ]
  },
  {
   "cell_type": "code",
   "execution_count": 21,
   "metadata": {},
   "outputs": [
    {
     "ename": "AttributeError",
     "evalue": "type object 'Employee' has no attribute '__salary_raise'",
     "output_type": "error",
     "traceback": [
      "\u001b[1;31m---------------------------------------------------------------------------\u001b[0m",
      "\u001b[1;31mAttributeError\u001b[0m                            Traceback (most recent call last)",
      "\u001b[1;32m<ipython-input-21-a5a46e47cbe4>\u001b[0m in \u001b[0;36m<module>\u001b[1;34m\u001b[0m\n\u001b[1;32m----> 1\u001b[1;33m \u001b[0mEmployee\u001b[0m\u001b[1;33m.\u001b[0m\u001b[0m__salary_raise\u001b[0m\u001b[1;33m\u001b[0m\u001b[1;33m\u001b[0m\u001b[0m\n\u001b[0m",
      "\u001b[1;31mAttributeError\u001b[0m: type object 'Employee' has no attribute '__salary_raise'"
     ]
    }
   ],
   "source": [
    "Employee.__salary_raise"
   ]
  },
  {
   "cell_type": "code",
   "execution_count": 22,
   "metadata": {},
   "outputs": [
    {
     "data": {
      "text/plain": [
       "1.07"
      ]
     },
     "execution_count": 22,
     "metadata": {},
     "output_type": "execute_result"
    }
   ],
   "source": [
    "Employee._Employee__salary_raise"
   ]
  },
  {
   "cell_type": "code",
   "execution_count": 23,
   "metadata": {},
   "outputs": [],
   "source": [
    "class Employee:\n",
    "    salary_raise = 1.07\n",
    "    no_of_employee = 0\n",
    "    \n",
    "    def __init__(self, firstname, lastname, salary):\n",
    "        self.firstname = firstname\n",
    "        self.lastname = lastname\n",
    "        self.salary = salary\n",
    "        Employee.no_of_employee += 1\n",
    "        \n",
    "    def get_raise(self):\n",
    "        return self.salary * Employee.salary_raise"
   ]
  },
  {
   "cell_type": "code",
   "execution_count": 24,
   "metadata": {},
   "outputs": [],
   "source": [
    "emp1 = Employee('Tom', 'Hardy', 21000)\n",
    "emp2 = Employee('Tim', 'Hary', 23000)"
   ]
  },
  {
   "cell_type": "code",
   "execution_count": 25,
   "metadata": {},
   "outputs": [
    {
     "data": {
      "text/plain": [
       "2"
      ]
     },
     "execution_count": 25,
     "metadata": {},
     "output_type": "execute_result"
    }
   ],
   "source": [
    "emp1.no_of_employee"
   ]
  },
  {
   "cell_type": "code",
   "execution_count": 26,
   "metadata": {},
   "outputs": [
    {
     "data": {
      "text/plain": [
       "2"
      ]
     },
     "execution_count": 26,
     "metadata": {},
     "output_type": "execute_result"
    }
   ],
   "source": [
    "emp2.no_of_employee"
   ]
  },
  {
   "cell_type": "code",
   "execution_count": 27,
   "metadata": {},
   "outputs": [
    {
     "data": {
      "text/plain": [
       "2"
      ]
     },
     "execution_count": 27,
     "metadata": {},
     "output_type": "execute_result"
    }
   ],
   "source": [
    "Employee.no_of_employee"
   ]
  },
  {
   "cell_type": "code",
   "execution_count": 28,
   "metadata": {},
   "outputs": [],
   "source": [
    "class Student:\n",
    "    def __init__(self, name, grade):\n",
    "        self.name = name\n",
    "        self.grade = grade\n",
    "        \n",
    "    def get_grade(self):\n",
    "        return self.grade\n",
    "\n",
    "class Course:\n",
    "    total_students = 0\n",
    "    def __init__(self, name, max_students):\n",
    "        self.name = name\n",
    "        self.max_students = max_students\n",
    "        self.students = []\n",
    "    \n",
    "    def add_student(self, student):\n",
    "        if len(self.students) < self.max_students:\n",
    "            self.students.append(student)\n",
    "            Course.total_students += 1\n",
    "        else:\n",
    "            print('Course has reached its maximum value')"
   ]
  },
  {
   "cell_type": "code",
   "execution_count": 29,
   "metadata": {},
   "outputs": [],
   "source": [
    "st1 = Student('Tom', 90)\n",
    "st2 = Student('Tim', 92)\n",
    "st3 = Student('Jack', 93)\n",
    "st4 = Student('Harry', 95)\n",
    "st5 = Student('Marry', 95)\n",
    "st6 = Student('Jane', 97)"
   ]
  },
  {
   "cell_type": "code",
   "execution_count": 30,
   "metadata": {},
   "outputs": [],
   "source": [
    "cs1 = Course('History', 3)\n",
    "cs2 = Course('Math', 2)"
   ]
  },
  {
   "cell_type": "code",
   "execution_count": 31,
   "metadata": {},
   "outputs": [
    {
     "name": "stdout",
     "output_type": "stream",
     "text": [
      "Course has reached its maximum value\n"
     ]
    }
   ],
   "source": [
    "cs1.add_student(st1)\n",
    "cs1.add_student(st2)\n",
    "cs1.add_student(st3)\n",
    "cs1.add_student(st4)"
   ]
  },
  {
   "cell_type": "code",
   "execution_count": 32,
   "metadata": {},
   "outputs": [
    {
     "name": "stdout",
     "output_type": "stream",
     "text": [
      "Course has reached its maximum value\n"
     ]
    }
   ],
   "source": [
    "cs2.add_student(st4)\n",
    "cs2.add_student(st5)\n",
    "cs2.add_student(st6)"
   ]
  },
  {
   "cell_type": "code",
   "execution_count": 33,
   "metadata": {},
   "outputs": [
    {
     "data": {
      "text/plain": [
       "5"
      ]
     },
     "execution_count": 33,
     "metadata": {},
     "output_type": "execute_result"
    }
   ],
   "source": [
    "Course.total_students"
   ]
  },
  {
   "cell_type": "markdown",
   "metadata": {},
   "source": [
    "# <center> Class Methods"
   ]
  },
  {
   "cell_type": "code",
   "execution_count": 37,
   "metadata": {},
   "outputs": [],
   "source": [
    "class Employee:\n",
    "    salary_raise = 1.07\n",
    "    no_of_employee = 0\n",
    "    \n",
    "    def __init__(self, firstname, lastname, salary):\n",
    "        self.firstname = firstname\n",
    "        self.lastname = lastname\n",
    "        self.salary = salary\n",
    "        Employee.no_of_employee += 1\n",
    "        \n",
    "    def get_raise(self):\n",
    "        return self.salary * Employee.salary_raise\n",
    "    \n",
    "    @classmethod\n",
    "    def from_csv(cls, emp):\n",
    "        firstname, lastname, salary = emp.split(',')\n",
    "        return cls(firstname, lastname, int(salary))"
   ]
  },
  {
   "cell_type": "code",
   "execution_count": 38,
   "metadata": {},
   "outputs": [],
   "source": [
    "emp1 = Employee.from_csv('Tom, John, 80000')"
   ]
  },
  {
   "cell_type": "code",
   "execution_count": 39,
   "metadata": {},
   "outputs": [
    {
     "data": {
      "text/plain": [
       "85600.0"
      ]
     },
     "execution_count": 39,
     "metadata": {},
     "output_type": "execute_result"
    }
   ],
   "source": [
    "emp1.get_raise()"
   ]
  },
  {
   "cell_type": "code",
   "execution_count": 40,
   "metadata": {},
   "outputs": [],
   "source": [
    "class Employee:\n",
    "    salary_raise = 1.07\n",
    "    no_of_employee = 0\n",
    "    \n",
    "    def __init__(self, firstname, lastname, salary):\n",
    "        self.firstname = firstname\n",
    "        self.lastname = lastname\n",
    "        self.salary = salary\n",
    "        Employee.no_of_employee += 1\n",
    "        \n",
    "    def get_raise(self):\n",
    "        return self.salary * Employee.salary_raise\n",
    "    \n",
    "    @classmethod\n",
    "    def from_csv(cls, emp):\n",
    "        firstname, lastname, salary = emp.split(',')\n",
    "        return cls(firstname, lastname, int(salary))\n",
    "    \n",
    "    @classmethod\n",
    "    def from_str(cls, emp):\n",
    "        firstname, lastname, salary = emp.split(' ')\n",
    "        return cls(firstname, lastname, int(salary))"
   ]
  },
  {
   "cell_type": "code",
   "execution_count": 42,
   "metadata": {},
   "outputs": [],
   "source": [
    "emp1 = Employee.from_str('Tom John 80000')"
   ]
  },
  {
   "cell_type": "code",
   "execution_count": 43,
   "metadata": {},
   "outputs": [
    {
     "data": {
      "text/plain": [
       "85600.0"
      ]
     },
     "execution_count": 43,
     "metadata": {},
     "output_type": "execute_result"
    }
   ],
   "source": [
    "emp1.get_raise()"
   ]
  },
  {
   "cell_type": "markdown",
   "metadata": {},
   "source": [
    "# <center>Static Methods"
   ]
  },
  {
   "cell_type": "code",
   "execution_count": 44,
   "metadata": {},
   "outputs": [],
   "source": [
    "class Employee:\n",
    "    salary_raise = 1.07\n",
    "    no_of_employee = 0\n",
    "    \n",
    "    def __init__(self, firstname, lastname, salary):\n",
    "        self.firstname = firstname\n",
    "        self.lastname = lastname\n",
    "        self.salary = salary\n",
    "        Employee.no_of_employee += 1\n",
    "        \n",
    "    def get_raise(self):\n",
    "        return self.salary * Employee.salary_raise\n",
    "    \n",
    "    @staticmethod\n",
    "    def add_to_db(empid):\n",
    "        db = ['emp001', 'emp002', 'emp003']\n",
    "        if empid in db:\n",
    "            print(f'Employee with id {empid} is already in our records')\n",
    "        else:\n",
    "            print(f'Employee with id {empid} does not exist')"
   ]
  },
  {
   "cell_type": "code",
   "execution_count": 45,
   "metadata": {},
   "outputs": [],
   "source": [
    "emp1 = Employee('Tom',  'John', '80000')"
   ]
  },
  {
   "cell_type": "code",
   "execution_count": 46,
   "metadata": {},
   "outputs": [
    {
     "name": "stdout",
     "output_type": "stream",
     "text": [
      "Employee with id emp005 does not exist\n"
     ]
    }
   ],
   "source": [
    "emp1.add_to_db('emp005')"
   ]
  },
  {
   "cell_type": "code",
   "execution_count": null,
   "metadata": {},
   "outputs": [],
   "source": []
  }
 ],
 "metadata": {
  "kernelspec": {
   "display_name": "Python 3",
   "language": "python",
   "name": "python3"
  },
  "language_info": {
   "codemirror_mode": {
    "name": "ipython",
    "version": 3
   },
   "file_extension": ".py",
   "mimetype": "text/x-python",
   "name": "python",
   "nbconvert_exporter": "python",
   "pygments_lexer": "ipython3",
   "version": "3.8.5"
  }
 },
 "nbformat": 4,
 "nbformat_minor": 4
}
