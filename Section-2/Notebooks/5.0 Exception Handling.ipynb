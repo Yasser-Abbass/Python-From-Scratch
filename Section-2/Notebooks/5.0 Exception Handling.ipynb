{
 "cells": [
  {
   "cell_type": "markdown",
   "metadata": {},
   "source": [
    "# <center> Exception Handling"
   ]
  },
  {
   "cell_type": "code",
   "execution_count": 1,
   "metadata": {},
   "outputs": [
    {
     "ename": "TypeError",
     "evalue": "can only concatenate str (not \"int\") to str",
     "output_type": "error",
     "traceback": [
      "\u001b[1;31m---------------------------------------------------------------------------\u001b[0m",
      "\u001b[1;31mTypeError\u001b[0m                                 Traceback (most recent call last)",
      "\u001b[1;32m<ipython-input-1-ca98af6a8d2b>\u001b[0m in \u001b[0;36m<module>\u001b[1;34m\u001b[0m\n\u001b[1;32m----> 1\u001b[1;33m \u001b[1;34m'Hello'\u001b[0m \u001b[1;33m+\u001b[0m \u001b[1;36m3\u001b[0m\u001b[1;33m\u001b[0m\u001b[1;33m\u001b[0m\u001b[0m\n\u001b[0m",
      "\u001b[1;31mTypeError\u001b[0m: can only concatenate str (not \"int\") to str"
     ]
    }
   ],
   "source": [
    "'Hello' + 3"
   ]
  },
  {
   "cell_type": "code",
   "execution_count": 2,
   "metadata": {},
   "outputs": [
    {
     "name": "stdout",
     "output_type": "stream",
     "text": [
      "You can not add string to integer\n"
     ]
    }
   ],
   "source": [
    "try:\n",
    "    'Hello' + 3\n",
    "except TypeError:\n",
    "    print('You can not add string to integer')"
   ]
  },
  {
   "cell_type": "code",
   "execution_count": 3,
   "metadata": {},
   "outputs": [
    {
     "ename": "ZeroDivisionError",
     "evalue": "division by zero",
     "output_type": "error",
     "traceback": [
      "\u001b[1;31m---------------------------------------------------------------------------\u001b[0m",
      "\u001b[1;31mZeroDivisionError\u001b[0m                         Traceback (most recent call last)",
      "\u001b[1;32m<ipython-input-3-bfdf2b0f658a>\u001b[0m in \u001b[0;36m<module>\u001b[1;34m\u001b[0m\n\u001b[1;32m----> 1\u001b[1;33m \u001b[0mx\u001b[0m \u001b[1;33m=\u001b[0m \u001b[1;36m1\u001b[0m\u001b[1;33m/\u001b[0m\u001b[1;36m0\u001b[0m\u001b[1;33m\u001b[0m\u001b[1;33m\u001b[0m\u001b[0m\n\u001b[0m",
      "\u001b[1;31mZeroDivisionError\u001b[0m: division by zero"
     ]
    }
   ],
   "source": [
    "x = 1/0"
   ]
  },
  {
   "cell_type": "code",
   "execution_count": 4,
   "metadata": {},
   "outputs": [
    {
     "ename": "FileNotFoundError",
     "evalue": "[Errno 2] No such file or directory: 'file1.txt'",
     "output_type": "error",
     "traceback": [
      "\u001b[1;31m---------------------------------------------------------------------------\u001b[0m",
      "\u001b[1;31mFileNotFoundError\u001b[0m                         Traceback (most recent call last)",
      "\u001b[1;32m<ipython-input-4-98667372e532>\u001b[0m in \u001b[0;36m<module>\u001b[1;34m\u001b[0m\n\u001b[1;32m----> 1\u001b[1;33m \u001b[0mf\u001b[0m \u001b[1;33m=\u001b[0m \u001b[0mopen\u001b[0m\u001b[1;33m(\u001b[0m\u001b[1;34m'file1.txt'\u001b[0m\u001b[1;33m)\u001b[0m\u001b[1;33m\u001b[0m\u001b[1;33m\u001b[0m\u001b[0m\n\u001b[0m",
      "\u001b[1;31mFileNotFoundError\u001b[0m: [Errno 2] No such file or directory: 'file1.txt'"
     ]
    }
   ],
   "source": [
    "f = open('file1.txt')"
   ]
  },
  {
   "cell_type": "code",
   "execution_count": 5,
   "metadata": {},
   "outputs": [
    {
     "name": "stdout",
     "output_type": "stream",
     "text": [
      "The file you specified does not exist, we crated the file for you, just open it and start editing\n"
     ]
    }
   ],
   "source": [
    "try:\n",
    "    f = open('file1.txt')\n",
    "except FileNotFoundError:\n",
    "    f = open('file1.txt', 'w')\n",
    "    print('The file you specified does not exist, we crated the file for you, just open it and start editing')\n",
    "    f.close()"
   ]
  },
  {
   "cell_type": "code",
   "execution_count": 6,
   "metadata": {},
   "outputs": [
    {
     "name": "stdout",
     "output_type": "stream",
     "text": [
      "The file you specified does not exist, we crated the file for you, just open it and start editing\n"
     ]
    }
   ],
   "source": [
    "try:\n",
    "    f = open('file2.txt')\n",
    "    x = 1/0\n",
    "except Exception:\n",
    "    f = open('file2.txt', 'w')\n",
    "    print('The file you specified does not exist, we crated the file for you, just open it and start editing')\n",
    "    f.close()"
   ]
  },
  {
   "cell_type": "code",
   "execution_count": 7,
   "metadata": {},
   "outputs": [
    {
     "name": "stdout",
     "output_type": "stream",
     "text": [
      "The file you specified does not exist, we crated the file for you, just open it and start editing\n"
     ]
    }
   ],
   "source": [
    "try:\n",
    "    f = open('file2.txt')\n",
    "    x = 1/0\n",
    "except Exception:\n",
    "    f = open('file2.txt', 'w')\n",
    "    print('The file you specified does not exist, we crated the file for you, just open it and start editing')\n",
    "    f.close()"
   ]
  },
  {
   "cell_type": "code",
   "execution_count": 8,
   "metadata": {},
   "outputs": [
    {
     "name": "stdout",
     "output_type": "stream",
     "text": [
      "The file you specified does not exist, we crated the file for you, just open it and start editing\n"
     ]
    }
   ],
   "source": [
    "try:\n",
    "    f = open('file3.txt')\n",
    "    x = 1/0\n",
    "except FileNotFoundError:\n",
    "    f = open('file3.txt', 'w')\n",
    "    print('The file you specified does not exist, we crated the file for you, just open it and start editing')\n",
    "    f.close()\n",
    "except ZeroDivisionError:\n",
    "    print('Sorry division by zero is not allowed')"
   ]
  },
  {
   "cell_type": "code",
   "execution_count": 9,
   "metadata": {},
   "outputs": [
    {
     "name": "stdout",
     "output_type": "stream",
     "text": [
      "Sorry division by zero is not allowed\n"
     ]
    }
   ],
   "source": [
    "try:\n",
    "    f = open('file3.txt')\n",
    "    x = 1/0\n",
    "except FileNotFoundError:\n",
    "    f = open('file3.txt', 'w')\n",
    "    print('The file you specified does not exist, we crated the file for you, just open it and start editing')\n",
    "    f.close()\n",
    "except ZeroDivisionError:\n",
    "    print('Sorry division by zero is not allowed')"
   ]
  },
  {
   "cell_type": "code",
   "execution_count": 10,
   "metadata": {},
   "outputs": [
    {
     "name": "stdout",
     "output_type": "stream",
     "text": [
      "Error! Something went wrong\n"
     ]
    }
   ],
   "source": [
    "try:\n",
    "    f = open('file3.txt')\n",
    "    x = 1/2\n",
    "    z = y\n",
    "except FileNotFoundError:\n",
    "    f = open('file3.txt', 'w')\n",
    "    print('The file you specified does not exist, we crated the file for you, just open it and start editing')\n",
    "    f.close()\n",
    "except ZeroDivisionError:\n",
    "    print('Sorry division by zero is not allowed')\n",
    "except Exception:\n",
    "    print('Error! Something went wrong')"
   ]
  },
  {
   "cell_type": "code",
   "execution_count": 11,
   "metadata": {},
   "outputs": [],
   "source": [
    "try:\n",
    "    f = open('file1.txt')\n",
    "except FileNotFoundError:\n",
    "    print('The file you specified does not exist')\n",
    "else:\n",
    "    f.close()"
   ]
  },
  {
   "cell_type": "code",
   "execution_count": 12,
   "metadata": {},
   "outputs": [],
   "source": [
    "try:\n",
    "    f = open('file1.txt', 'a')\n",
    "except FileNotFoundError:\n",
    "    print('The file you specified does not exist')\n",
    "else:\n",
    "    f.write('Hello World')\n",
    "    f.close()"
   ]
  },
  {
   "cell_type": "code",
   "execution_count": 13,
   "metadata": {},
   "outputs": [
    {
     "name": "stdout",
     "output_type": "stream",
     "text": [
      "Hello World\n"
     ]
    }
   ],
   "source": [
    "try:\n",
    "    f = open('file1.txt')\n",
    "except FileNotFoundError:\n",
    "    print('The file you specified does not exist')\n",
    "else:\n",
    "    print(f.read())\n",
    "    f.close()"
   ]
  },
  {
   "cell_type": "code",
   "execution_count": 14,
   "metadata": {},
   "outputs": [
    {
     "name": "stdout",
     "output_type": "stream",
     "text": [
      "Hello World\n",
      "File exception handling...\n"
     ]
    }
   ],
   "source": [
    "try:\n",
    "    f = open('file1.txt')\n",
    "except FileNotFoundError:\n",
    "    print('The file you specified does not exist')\n",
    "else:\n",
    "    print(f.read())\n",
    "    f.close()\n",
    "finally:\n",
    "    print('File exception handling...')"
   ]
  },
  {
   "cell_type": "code",
   "execution_count": 15,
   "metadata": {},
   "outputs": [
    {
     "name": "stdout",
     "output_type": "stream",
     "text": [
      "File name is too short\n",
      "File exception handling...\n"
     ]
    }
   ],
   "source": [
    "try:\n",
    "    f = open('file1.txt')\n",
    "    if len(f.name) < 10:\n",
    "        raise NameError\n",
    "except FileNotFoundError:\n",
    "    print('The file you specified does not exist')\n",
    "except NameError:\n",
    "    print('File name is too short')\n",
    "else:\n",
    "    print(f.read())\n",
    "    f.close()\n",
    "finally:\n",
    "    print('File exception handling...')"
   ]
  }
 ],
 "metadata": {
  "kernelspec": {
   "display_name": "Python 3",
   "language": "python",
   "name": "python3"
  },
  "language_info": {
   "codemirror_mode": {
    "name": "ipython",
    "version": 3
   },
   "file_extension": ".py",
   "mimetype": "text/x-python",
   "name": "python",
   "nbconvert_exporter": "python",
   "pygments_lexer": "ipython3",
   "version": "3.8.5"
  }
 },
 "nbformat": 4,
 "nbformat_minor": 4
}
