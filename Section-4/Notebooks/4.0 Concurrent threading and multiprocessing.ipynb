{
 "cells": [
  {
   "cell_type": "markdown",
   "metadata": {},
   "source": [
    "# <center>Threading"
   ]
  },
  {
   "cell_type": "code",
   "execution_count": 1,
   "metadata": {},
   "outputs": [],
   "source": [
    "import time\n",
    "import shutil\n",
    "import requests\n",
    "import threading\n",
    "import multiprocessing\n",
    "import concurrent.futures\n",
    "from pathlib import Path"
   ]
  },
  {
   "cell_type": "code",
   "execution_count": 2,
   "metadata": {},
   "outputs": [
    {
     "name": "stdout",
     "output_type": "stream",
     "text": [
      "I'm starting sleep_fun\n",
      "MainThread\n",
      "I've finished sleep_fun\n",
      "I'm in the main program\n"
     ]
    }
   ],
   "source": [
    "def sleep_fun():\n",
    "    print(\"I'm starting sleep_fun\")\n",
    "    print(threading.current_thread().name)\n",
    "    time.sleep(2)\n",
    "    print(\"I've finished sleep_fun\")\n",
    "\n",
    "sleep_fun()\n",
    "print(\"I'm in the main program\")"
   ]
  },
  {
   "cell_type": "code",
   "execution_count": 3,
   "metadata": {},
   "outputs": [
    {
     "name": "stdout",
     "output_type": "stream",
     "text": [
      "I'm starting sleep_fun\n",
      "Thread-6\n",
      "MainThread\n",
      "I'm in the main program\n"
     ]
    }
   ],
   "source": [
    "t1 = threading.Thread(target=sleep_fun)\n",
    "t1.start()\n",
    "print(threading.current_thread().name)\n",
    "print(\"I'm in the main program\")"
   ]
  },
  {
   "cell_type": "code",
   "execution_count": 4,
   "metadata": {},
   "outputs": [
    {
     "name": "stdout",
     "output_type": "stream",
     "text": [
      "I'm starting sleep_fun\n",
      "Thread-7\n",
      "I've finished sleep_fun\n",
      "I've finished sleep_fun\n",
      "MainThread\n",
      "I'm in the main program\n"
     ]
    }
   ],
   "source": [
    "t1 = threading.Thread(target=sleep_fun)\n",
    "t1.start()\n",
    "t1.join()\n",
    "print(threading.current_thread().name)\n",
    "print(\"I'm in the main program\")"
   ]
  },
  {
   "cell_type": "code",
   "execution_count": 5,
   "metadata": {},
   "outputs": [
    {
     "name": "stdout",
     "output_type": "stream",
     "text": [
      "I'm starting sleep_fun\n",
      "Thread-8\n",
      "I've finished sleep_fun\n",
      "MainThread\n",
      "I'm in the main program\n"
     ]
    }
   ],
   "source": [
    "t1 = threading.Thread(target=sleep_fun, daemon=True)\n",
    "t1.start()\n",
    "t1.join()\n",
    "print(threading.current_thread().name)\n",
    "print(\"I'm in the main program\")"
   ]
  },
  {
   "cell_type": "code",
   "execution_count": 54,
   "metadata": {},
   "outputs": [],
   "source": [
    "def fact(num):\n",
    "    start = time.time()\n",
    "    x = 1 \n",
    "    for i in range(1, num):\n",
    "        x *= i\n",
    "    time.sleep(1)\n",
    "    stop = time.time() - start\n",
    "    print(f'time elapsed {stop}')"
   ]
  },
  {
   "cell_type": "code",
   "execution_count": 7,
   "metadata": {},
   "outputs": [
    {
     "name": "stdout",
     "output_type": "stream",
     "text": [
      "time elapsed 4.281245708465576\n",
      "time elapsed 4.249553442001343\n",
      "time elapsed 4.297409772872925\n",
      "Total time elapsed is 12.828208923339844\n"
     ]
    }
   ],
   "source": [
    "start = time.time()\n",
    "for i in range(3):\n",
    "    fact(50000)\n",
    "stop = time.time() - start\n",
    "print(f'Total time elapsed is {stop}')"
   ]
  },
  {
   "cell_type": "code",
   "execution_count": 8,
   "metadata": {},
   "outputs": [
    {
     "name": "stdout",
     "output_type": "stream",
     "text": [
      "registering thread 0\n",
      "registering thread 1\n",
      "registering thread 2\n"
     ]
    }
   ],
   "source": [
    "threads = []\n",
    "num_threads = 3\n",
    "for i in range(num_threads):\n",
    "    print(f'registering thread {i}')\n",
    "    t = threading.Thread(target=fact, args=(50000,))\n",
    "    threads.append(t)"
   ]
  },
  {
   "cell_type": "code",
   "execution_count": 9,
   "metadata": {},
   "outputs": [
    {
     "name": "stdout",
     "output_type": "stream",
     "text": [
      "time elapsed 11.375181913375854\n",
      "time elapsed 11.921014308929443\n",
      "time elapsed 12.531141996383667\n",
      "Total time elapsed is 12.578321933746338\n"
     ]
    }
   ],
   "source": [
    "start = time.time()\n",
    "for t in threads:\n",
    "    t.start()\n",
    "for t in threads:\n",
    "    t.join()\n",
    "stop = time.time() - start\n",
    "print(f'Total time elapsed is {stop}')"
   ]
  },
  {
   "cell_type": "code",
   "execution_count": 10,
   "metadata": {},
   "outputs": [
    {
     "name": "stdout",
     "output_type": "stream",
     "text": [
      "time elapsed 12.234408378601074\n",
      "time elapsed 12.234368085861206\n",
      "time elapsed 12.449917316436768\n",
      "Total time elapsed is 12.578134775161743\n"
     ]
    }
   ],
   "source": [
    "start = time.time()\n",
    "with concurrent.futures.ThreadPoolExecutor() as executer:\n",
    "    results = [executer.submit(fact, 50000) for i in range(3)]\n",
    "stop = time.time() - start\n",
    "print(f'Total time elapsed is {stop}')"
   ]
  },
  {
   "cell_type": "code",
   "execution_count": 11,
   "metadata": {},
   "outputs": [],
   "source": [
    "photos = [\n",
    "    'https://unsplash.com/photos/LxaorEDmI3c/download?force=true',\n",
    "    'https://unsplash.com/photos/4rDCa5hBlCs/download?force=true',\n",
    "    'https://unsplash.com/photos/jFCViYFYcus/download?force=true',\n",
    "    'https://unsplash.com/photos/EwKXn5CapA4/download?force=true',\n",
    "    'https://unsplash.com/photos/1Z2niiBPg5A/download?force=true',\n",
    "    'https://unsplash.com/photos/G15G-Any-D0/download?force=true',\n",
    "    'https://unsplash.com/photos/01_igFr7hd4/download?force=true',\n",
    "    'https://unsplash.com/photos/78A265wPiO4/download?force=true',\n",
    "    'https://unsplash.com/photos/tGTVxeOr_Rs/download?force=true',\n",
    "    'https://unsplash.com/photos/hFzIoD0F_i8/download?force=true'\n",
    "]"
   ]
  },
  {
   "cell_type": "code",
   "execution_count": 12,
   "metadata": {},
   "outputs": [],
   "source": [
    "response = requests.get(photos[0])"
   ]
  },
  {
   "cell_type": "code",
   "execution_count": 18,
   "metadata": {},
   "outputs": [],
   "source": [
    "fname = response.headers['Content-Disposition'].split('filename=')[-1].replace('\"', '')"
   ]
  },
  {
   "cell_type": "code",
   "execution_count": 19,
   "metadata": {},
   "outputs": [],
   "source": [
    "with open(fname, 'wb') as fs:\n",
    "    fs.write(response.content)"
   ]
  },
  {
   "cell_type": "code",
   "execution_count": 23,
   "metadata": {},
   "outputs": [],
   "source": [
    "def download_image(image):\n",
    "    response = requests.get(image)\n",
    "    fname = response.headers['Content-Disposition'].split('filename=')[-1].replace('\"', '')\n",
    "    Path('./photos').mkdir(exist_ok=True)\n",
    "    fname = './photos/' + fname\n",
    "    with open(fname, 'wb') as fs:\n",
    "        fs.write(response.content)"
   ]
  },
  {
   "cell_type": "code",
   "execution_count": 24,
   "metadata": {},
   "outputs": [
    {
     "name": "stdout",
     "output_type": "stream",
     "text": [
      "Total elapsed time 146.40641927719116\n"
     ]
    }
   ],
   "source": [
    "start = time.time()\n",
    "r = map(download_image, photos)\n",
    "for i in r:\n",
    "    pass\n",
    "stop = time.time() - start\n",
    "print(f'Total elapsed time {stop}')"
   ]
  },
  {
   "cell_type": "code",
   "execution_count": 25,
   "metadata": {},
   "outputs": [
    {
     "name": "stdout",
     "output_type": "stream",
     "text": [
      "Total elapsed time 86.09387850761414\n"
     ]
    }
   ],
   "source": [
    "start = time.time()\n",
    "with concurrent.futures.ThreadPoolExecutor(max_workers=5) as executer:\n",
    "    executer.map(download_image, photos)\n",
    "stop = time.time() - start\n",
    "print(f'Total elapsed time {stop}')"
   ]
  },
  {
   "cell_type": "code",
   "execution_count": 26,
   "metadata": {},
   "outputs": [
    {
     "name": "stdout",
     "output_type": "stream",
     "text": [
      "Total elapsed time 39.12469410896301\n"
     ]
    }
   ],
   "source": [
    "start = time.time()\n",
    "with concurrent.futures.ThreadPoolExecutor() as executer:\n",
    "    executer.map(download_image, photos)\n",
    "stop = time.time() - start\n",
    "print(f'Total elapsed time {stop}')"
   ]
  },
  {
   "cell_type": "code",
   "execution_count": 28,
   "metadata": {},
   "outputs": [],
   "source": [
    "files = list(Path('./photos').glob('*.*'))"
   ]
  },
  {
   "cell_type": "code",
   "execution_count": 29,
   "metadata": {},
   "outputs": [
    {
     "data": {
      "text/plain": [
       "[WindowsPath('photos/boxed-water-is-better-G15G-Any-D0-unsplash.jpg'),\n",
       " WindowsPath('photos/boxed-water-is-better-LxaorEDmI3c-unsplash.jpg'),\n",
       " WindowsPath('photos/casey-horner-4rDCa5hBlCs-unsplash.jpg'),\n",
       " WindowsPath('photos/david-marcu-78A265wPiO4-unsplash.jpg'),\n",
       " WindowsPath('photos/jeremy-bishop-EwKXn5CapA4-unsplash.jpg'),\n",
       " WindowsPath('photos/luca-bravo-hFzIoD0F_i8-unsplash.jpg'),\n",
       " WindowsPath('photos/lukasz-szmigiel-jFCViYFYcus-unsplash.jpg'),\n",
       " WindowsPath('photos/niko-photos-tGTVxeOr_Rs-unsplash.jpg'),\n",
       " WindowsPath('photos/qingbao-meng-01_igFr7hd4-unsplash.jpg'),\n",
       " WindowsPath('photos/v2osk-1Z2niiBPg5A-unsplash.jpg')]"
      ]
     },
     "execution_count": 29,
     "metadata": {},
     "output_type": "execute_result"
    }
   ],
   "source": [
    "files"
   ]
  },
  {
   "cell_type": "code",
   "execution_count": 32,
   "metadata": {},
   "outputs": [],
   "source": [
    "def copy_files(file):\n",
    "    fname = file.name\n",
    "    shutil.copy(Path('./photos').joinpath(fname), Path('./photos-new').joinpath(fname))"
   ]
  },
  {
   "cell_type": "code",
   "execution_count": 33,
   "metadata": {},
   "outputs": [
    {
     "name": "stdout",
     "output_type": "stream",
     "text": [
      "Total elapsed time 0.07919478416442871\n"
     ]
    }
   ],
   "source": [
    "Path('./photos-new').mkdir(exist_ok=True)\n",
    "start = time.time()\n",
    "with concurrent.futures.ThreadPoolExecutor() as executer:\n",
    "    executer.map(copy_files, files)\n",
    "stop = time.time() - start\n",
    "print(f'Total elapsed time {stop}')"
   ]
  },
  {
   "cell_type": "code",
   "execution_count": 34,
   "metadata": {},
   "outputs": [],
   "source": [
    "class Course:\n",
    "    def __init__(self):\n",
    "        self.num_student = 0\n",
    "        \n",
    "    def add_student(self, name):\n",
    "        print(f'Start adding student --> Thread {name}')\n",
    "        my_num_student = self.num_student\n",
    "        my_num_student += 1\n",
    "        time.sleep(0.1)\n",
    "        self.num_student = my_num_student\n",
    "        print(f'Finished adding student --> Thread {name}')"
   ]
  },
  {
   "cell_type": "code",
   "execution_count": 36,
   "metadata": {},
   "outputs": [
    {
     "name": "stdout",
     "output_type": "stream",
     "text": [
      "Testing adding student initial number of students 0\n",
      "Start adding student --> Thread 0\n",
      "Start adding student --> Thread 1\n",
      "Finished adding student --> Thread 1Finished adding student --> Thread 0\n",
      "\n",
      "Testing adding student initial number of students 1\n"
     ]
    }
   ],
   "source": [
    "cs1 = Course()\n",
    "print(f'Testing adding student initial number of students {cs1.num_student}')\n",
    "with concurrent.futures.ThreadPoolExecutor(max_workers=2) as executer:\n",
    "    for i in range(2):\n",
    "        executer.submit(cs1.add_student, i)\n",
    "print(f'Testing adding student initial number of students {cs1.num_student}')"
   ]
  },
  {
   "cell_type": "code",
   "execution_count": null,
   "metadata": {},
   "outputs": [],
   "source": [
    "class Course:\n",
    "    def __init__(self):\n",
    "        self.num_student = 0\n",
    "        \n",
    "    def add_student(self, name, lock):\n",
    "        print(f'Start adding student --> Thread {name}')\n",
    "        with lock:\n",
    "            my_num_student = self.num_student\n",
    "            my_num_student += 1\n",
    "            time.sleep(0.1)\n",
    "            self.num_student = my_num_student\n",
    "        print(f'Finished adding student --> Thread {name}')"
   ]
  },
  {
   "cell_type": "code",
   "execution_count": 38,
   "metadata": {},
   "outputs": [
    {
     "name": "stdout",
     "output_type": "stream",
     "text": [
      "Testing adding student initial number of students 0\n",
      "Start adding student --> Thread 0\n",
      "Start adding student --> Thread 1\n",
      "Finished adding student --> Thread 0\n",
      "Finished adding student --> Thread 1\n",
      "Testing adding student initial number of students 2\n"
     ]
    }
   ],
   "source": [
    "cs1 = Course()\n",
    "lock = threading.Lock()\n",
    "print(f'Testing adding student initial number of students {cs1.num_student}')\n",
    "with concurrent.futures.ThreadPoolExecutor(max_workers=2) as executer:\n",
    "    for i in range(2):\n",
    "        executer.submit(cs1.add_student, i, lock)\n",
    "print(f'Testing adding student initial number of students {cs1.num_student}')"
   ]
  },
  {
   "cell_type": "markdown",
   "metadata": {},
   "source": [
    "# <center>Processes"
   ]
  },
  {
   "cell_type": "code",
   "execution_count": 68,
   "metadata": {},
   "outputs": [
    {
     "name": "stdout",
     "output_type": "stream",
     "text": [
      "registering process 0\n",
      "registering process 1\n",
      "registering process 2\n"
     ]
    }
   ],
   "source": [
    "processes = []\n",
    "num_processes = 3\n",
    "for i in range(num_processes):\n",
    "    print(f'registering process {i}')\n",
    "    p = multiprocessing.Process(target=fact, args=(50000,))\n",
    "    processes.append(p)"
   ]
  },
  {
   "cell_type": "code",
   "execution_count": 69,
   "metadata": {},
   "outputs": [
    {
     "name": "stdout",
     "output_type": "stream",
     "text": [
      "Total time elapsed is 0.2504284381866455\n"
     ]
    }
   ],
   "source": [
    "start = time.time()\n",
    "for p in processes:\n",
    "    p.start()\n",
    "for p in processes:\n",
    "    p.join()\n",
    "stop = time.time() - start\n",
    "print(f'Total time elapsed is {stop}')"
   ]
  },
  {
   "cell_type": "markdown",
   "metadata": {},
   "source": [
    "## [Array data types](https://docs.python.org/3/library/array.html)"
   ]
  }
 ],
 "metadata": {
  "kernelspec": {
   "display_name": "Python 3",
   "language": "python",
   "name": "python3"
  },
  "language_info": {
   "codemirror_mode": {
    "name": "ipython",
    "version": 3
   },
   "file_extension": ".py",
   "mimetype": "text/x-python",
   "name": "python",
   "nbconvert_exporter": "python",
   "pygments_lexer": "ipython3",
   "version": "3.8.5"
  }
 },
 "nbformat": 4,
 "nbformat_minor": 4
}
