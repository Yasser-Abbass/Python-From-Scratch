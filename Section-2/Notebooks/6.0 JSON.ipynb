{
 "cells": [
  {
   "cell_type": "markdown",
   "metadata": {},
   "source": [
    "# <center>JSON"
   ]
  },
  {
   "cell_type": "code",
   "execution_count": 1,
   "metadata": {},
   "outputs": [],
   "source": [
    "import json"
   ]
  },
  {
   "cell_type": "code",
   "execution_count": 2,
   "metadata": {},
   "outputs": [],
   "source": [
    "json_file = open('example.json')"
   ]
  },
  {
   "cell_type": "code",
   "execution_count": 3,
   "metadata": {},
   "outputs": [],
   "source": [
    "json_data = json.load(json_file)"
   ]
  },
  {
   "cell_type": "code",
   "execution_count": 4,
   "metadata": {},
   "outputs": [],
   "source": [
    "json_file.close()"
   ]
  },
  {
   "cell_type": "code",
   "execution_count": 5,
   "metadata": {},
   "outputs": [
    {
     "data": {
      "text/plain": [
       "{'Employees': [{'userId': 'krish',\n",
       "   'jobTitle': 'Developer',\n",
       "   'firstName': 'Krish',\n",
       "   'lastName': 'Lee',\n",
       "   'employeeCode': 'E1',\n",
       "   'region': 'CA',\n",
       "   'phoneNumber': '123456',\n",
       "   'emailAddress': 'krish.lee@learningcontainer.com'},\n",
       "  {'userId': 'devid',\n",
       "   'jobTitle': 'Developer',\n",
       "   'firstName': 'Devid',\n",
       "   'lastName': 'Rome',\n",
       "   'employeeCode': 'E2',\n",
       "   'region': 'CA',\n",
       "   'phoneNumber': '1111111',\n",
       "   'emailAddress': 'devid.rome@learningcontainer.com'},\n",
       "  {'userId': 'tin',\n",
       "   'jobTitle': 'Program Directory',\n",
       "   'firstName': 'tin',\n",
       "   'lastName': 'jonson',\n",
       "   'employeeCode': 'E3',\n",
       "   'region': 'CA',\n",
       "   'phoneNumber': '2222222',\n",
       "   'emailAddress': 'tin.jonson@learningcontainer.com'}]}"
      ]
     },
     "execution_count": 5,
     "metadata": {},
     "output_type": "execute_result"
    }
   ],
   "source": [
    "json_data"
   ]
  },
  {
   "cell_type": "code",
   "execution_count": 6,
   "metadata": {},
   "outputs": [
    {
     "data": {
      "text/plain": [
       "dict"
      ]
     },
     "execution_count": 6,
     "metadata": {},
     "output_type": "execute_result"
    }
   ],
   "source": [
    "type(json_data)"
   ]
  },
  {
   "cell_type": "code",
   "execution_count": 7,
   "metadata": {},
   "outputs": [
    {
     "data": {
      "text/plain": [
       "[{'userId': 'krish',\n",
       "  'jobTitle': 'Developer',\n",
       "  'firstName': 'Krish',\n",
       "  'lastName': 'Lee',\n",
       "  'employeeCode': 'E1',\n",
       "  'region': 'CA',\n",
       "  'phoneNumber': '123456',\n",
       "  'emailAddress': 'krish.lee@learningcontainer.com'},\n",
       " {'userId': 'devid',\n",
       "  'jobTitle': 'Developer',\n",
       "  'firstName': 'Devid',\n",
       "  'lastName': 'Rome',\n",
       "  'employeeCode': 'E2',\n",
       "  'region': 'CA',\n",
       "  'phoneNumber': '1111111',\n",
       "  'emailAddress': 'devid.rome@learningcontainer.com'},\n",
       " {'userId': 'tin',\n",
       "  'jobTitle': 'Program Directory',\n",
       "  'firstName': 'tin',\n",
       "  'lastName': 'jonson',\n",
       "  'employeeCode': 'E3',\n",
       "  'region': 'CA',\n",
       "  'phoneNumber': '2222222',\n",
       "  'emailAddress': 'tin.jonson@learningcontainer.com'}]"
      ]
     },
     "execution_count": 7,
     "metadata": {},
     "output_type": "execute_result"
    }
   ],
   "source": [
    "json_data['Employees']"
   ]
  },
  {
   "cell_type": "code",
   "execution_count": 8,
   "metadata": {},
   "outputs": [
    {
     "data": {
      "text/plain": [
       "{'userId': 'krish',\n",
       " 'jobTitle': 'Developer',\n",
       " 'firstName': 'Krish',\n",
       " 'lastName': 'Lee',\n",
       " 'employeeCode': 'E1',\n",
       " 'region': 'CA',\n",
       " 'phoneNumber': '123456',\n",
       " 'emailAddress': 'krish.lee@learningcontainer.com'}"
      ]
     },
     "execution_count": 8,
     "metadata": {},
     "output_type": "execute_result"
    }
   ],
   "source": [
    "json_data['Employees'][0]"
   ]
  },
  {
   "cell_type": "code",
   "execution_count": 9,
   "metadata": {},
   "outputs": [
    {
     "name": "stdout",
     "output_type": "stream",
     "text": [
      "Job tile for Lee Krish is Developer\n",
      "Job tile for Rome Devid is Developer\n",
      "Job tile for jonson tin is Program Directory\n"
     ]
    }
   ],
   "source": [
    "for emp in json_data['Employees']:\n",
    "    print(f\"Job tile for {emp['lastName']} {emp['firstName']} is {emp['jobTitle']}\")"
   ]
  },
  {
   "cell_type": "code",
   "execution_count": 10,
   "metadata": {},
   "outputs": [],
   "source": [
    "for emp in json_data['Employees']:\n",
    "    emp['maritalStaus'] = 'Single'"
   ]
  },
  {
   "cell_type": "code",
   "execution_count": 11,
   "metadata": {},
   "outputs": [
    {
     "data": {
      "text/plain": [
       "{'Employees': [{'userId': 'krish',\n",
       "   'jobTitle': 'Developer',\n",
       "   'firstName': 'Krish',\n",
       "   'lastName': 'Lee',\n",
       "   'employeeCode': 'E1',\n",
       "   'region': 'CA',\n",
       "   'phoneNumber': '123456',\n",
       "   'emailAddress': 'krish.lee@learningcontainer.com',\n",
       "   'maritalStaus': 'Single'},\n",
       "  {'userId': 'devid',\n",
       "   'jobTitle': 'Developer',\n",
       "   'firstName': 'Devid',\n",
       "   'lastName': 'Rome',\n",
       "   'employeeCode': 'E2',\n",
       "   'region': 'CA',\n",
       "   'phoneNumber': '1111111',\n",
       "   'emailAddress': 'devid.rome@learningcontainer.com',\n",
       "   'maritalStaus': 'Single'},\n",
       "  {'userId': 'tin',\n",
       "   'jobTitle': 'Program Directory',\n",
       "   'firstName': 'tin',\n",
       "   'lastName': 'jonson',\n",
       "   'employeeCode': 'E3',\n",
       "   'region': 'CA',\n",
       "   'phoneNumber': '2222222',\n",
       "   'emailAddress': 'tin.jonson@learningcontainer.com',\n",
       "   'maritalStaus': 'Single'}]}"
      ]
     },
     "execution_count": 11,
     "metadata": {},
     "output_type": "execute_result"
    }
   ],
   "source": [
    "json_data"
   ]
  },
  {
   "cell_type": "code",
   "execution_count": 12,
   "metadata": {},
   "outputs": [],
   "source": [
    "with open('example2.json', 'w') as fs:\n",
    "    json.dump(json_data, fs)"
   ]
  },
  {
   "cell_type": "code",
   "execution_count": 13,
   "metadata": {},
   "outputs": [],
   "source": [
    "import requests"
   ]
  },
  {
   "cell_type": "code",
   "execution_count": 14,
   "metadata": {},
   "outputs": [],
   "source": [
    "response = requests.get(\"http://api.geonames.org/citiesJSON?north=44.1&south=-9.9&east=-22.4&west=55.2&lang=de&username=demo\")"
   ]
  },
  {
   "cell_type": "code",
   "execution_count": 15,
   "metadata": {},
   "outputs": [
    {
     "data": {
      "text/plain": [
       "200"
      ]
     },
     "execution_count": 15,
     "metadata": {},
     "output_type": "execute_result"
    }
   ],
   "source": [
    "response.status_code"
   ]
  },
  {
   "cell_type": "code",
   "execution_count": 16,
   "metadata": {},
   "outputs": [
    {
     "data": {
      "text/plain": [
       "'{\"geonames\":[{\"lng\":-99.12766456604,\"geonameId\":3530597,\"countrycode\":\"MX\",\"name\":\"Mexiko-Stadt\",\"fclName\":\"city, village,...\",\"toponymName\":\"Mexico City\",\"fcodeName\":\"capital of a political entity\",\"wikipedia\":\"en.wikipedia.org/wiki/Mexico_City\",\"lat\":19.428472427036,\"fcl\":\"P\",\"population\":12294193,\"fcode\":\"PPLC\"},{\"lng\":116.397228240967,\"geonameId\":1816670,\"countrycode\":\"CN\",\"name\":\"Peking\",\"fclName\":\"city, village,...\",\"toponymName\":\"Beijing\",\"fcodeName\":\"capital of a political entity\",\"wikipedia\":\"en.wikipedia.org/wiki/Beijing\",\"lat\":39.9074977414405,\"fcl\":\"P\",\"population\":11716620,\"fcode\":\"PPLC\"},{\"lng\":90.40743827819824,\"geonameId\":1185241,\"countrycode\":\"BD\",\"name\":\"Dhaka\",\"fclName\":\"city, village,...\",\"toponymName\":\"Dhaka\",\"fcodeName\":\"capital of a political entity\",\"wikipedia\":\"en.wikipedia.org/wiki/Dhaka\",\"lat\":23.710395616597037,\"fcl\":\"P\",\"population\":10356500,\"fcode\":\"PPLC\"},{\"lng\":126.9784,\"geonameId\":1835848,\"countrycode\":\"KR\",\"name\":\"Seoul\",\"fclName\":\"city, village,...\",\"toponymName\":\"Seoul\",\"fcodeName\":\"capital of a political entity\",\"wikipedia\":\"en.wikipedia.org/wiki/Seoul\",\"lat\":37.566,\"fcl\":\"P\",\"population\":10349312,\"fcode\":\"PPLC\"},{\"lng\":106.84513092041016,\"geonameId\":1642911,\"countrycode\":\"ID\",\"name\":\"Jakarta\",\"fclName\":\"city, village,...\",\"toponymName\":\"Jakarta\",\"fcodeName\":\"capital of a political entity\",\"wikipedia\":\"en.wikipedia.org/wiki/Jakarta\",\"lat\":-6.214623197035775,\"fcl\":\"P\",\"population\":8540121,\"fcode\":\"PPLC\"},{\"lng\":139.69171,\"geonameId\":1850147,\"countrycode\":\"JP\",\"name\":\"Tokio\",\"fclName\":\"city, village,...\",\"toponymName\":\"Tokyo\",\"fcodeName\":\"capital of a political entity\",\"wikipedia\":\"de.wikipedia.org/wiki/Tokyo\",\"lat\":35.6895,\"fcl\":\"P\",\"population\":8336599,\"fcode\":\"PPLC\"},{\"lng\":121.531846,\"geonameId\":1668341,\"countrycode\":\"TW\",\"name\":\"Taipeh\",\"fclName\":\"city, village,...\",\"toponymName\":\"Taipei\",\"fcodeName\":\"capital of a political entity\",\"wikipedia\":\"de.wikipedia.org/wiki/Taipei\",\"lat\":25.047763,\"fcl\":\"P\",\"population\":7871900,\"fcode\":\"PPLC\"},{\"lng\":-74.08175468444824,\"geonameId\":3688689,\"countrycode\":\"CO\",\"name\":\"Bogota\",\"fclName\":\"city, village,...\",\"toponymName\":\"Bogotá\",\"fcodeName\":\"capital of a political entity\",\"wikipedia\":\"en.wikipedia.org/wiki/Bogot%C3%A1\",\"lat\":4.609705849789108,\"fcl\":\"P\",\"population\":7674366,\"fcode\":\"PPLC\"},{\"lng\":114.17469,\"geonameId\":1819729,\"countrycode\":\"HK\",\"name\":\"Hongkong\",\"fclName\":\"city, village,...\",\"toponymName\":\"Hong Kong\",\"fcodeName\":\"capital of a political entity\",\"wikipedia\":\"en.wikipedia.org/wiki/Hong_Kong\",\"lat\":22.27832,\"fcl\":\"P\",\"population\":7012738,\"fcode\":\"PPLC\"},{\"lng\":100.501444,\"geonameId\":1609350,\"countrycode\":\"TH\",\"name\":\"Bangkok\",\"fclName\":\"city, village,...\",\"toponymName\":\"Bangkok\",\"fcodeName\":\"capital of a political entity\",\"wikipedia\":\"en.wikipedia.org/wiki/Bangkok\",\"lat\":13.753979,\"fcl\":\"P\",\"population\":5104476,\"fcode\":\"PPLC\"}]}'"
      ]
     },
     "execution_count": 16,
     "metadata": {},
     "output_type": "execute_result"
    }
   ],
   "source": [
    "response.text"
   ]
  },
  {
   "cell_type": "code",
   "execution_count": 17,
   "metadata": {},
   "outputs": [
    {
     "data": {
      "text/plain": [
       "{'geonames': [{'lng': -99.12766456604,\n",
       "   'geonameId': 3530597,\n",
       "   'countrycode': 'MX',\n",
       "   'name': 'Mexiko-Stadt',\n",
       "   'fclName': 'city, village,...',\n",
       "   'toponymName': 'Mexico City',\n",
       "   'fcodeName': 'capital of a political entity',\n",
       "   'wikipedia': 'en.wikipedia.org/wiki/Mexico_City',\n",
       "   'lat': 19.428472427036,\n",
       "   'fcl': 'P',\n",
       "   'population': 12294193,\n",
       "   'fcode': 'PPLC'},\n",
       "  {'lng': 116.397228240967,\n",
       "   'geonameId': 1816670,\n",
       "   'countrycode': 'CN',\n",
       "   'name': 'Peking',\n",
       "   'fclName': 'city, village,...',\n",
       "   'toponymName': 'Beijing',\n",
       "   'fcodeName': 'capital of a political entity',\n",
       "   'wikipedia': 'en.wikipedia.org/wiki/Beijing',\n",
       "   'lat': 39.9074977414405,\n",
       "   'fcl': 'P',\n",
       "   'population': 11716620,\n",
       "   'fcode': 'PPLC'},\n",
       "  {'lng': 90.40743827819824,\n",
       "   'geonameId': 1185241,\n",
       "   'countrycode': 'BD',\n",
       "   'name': 'Dhaka',\n",
       "   'fclName': 'city, village,...',\n",
       "   'toponymName': 'Dhaka',\n",
       "   'fcodeName': 'capital of a political entity',\n",
       "   'wikipedia': 'en.wikipedia.org/wiki/Dhaka',\n",
       "   'lat': 23.710395616597037,\n",
       "   'fcl': 'P',\n",
       "   'population': 10356500,\n",
       "   'fcode': 'PPLC'},\n",
       "  {'lng': 126.9784,\n",
       "   'geonameId': 1835848,\n",
       "   'countrycode': 'KR',\n",
       "   'name': 'Seoul',\n",
       "   'fclName': 'city, village,...',\n",
       "   'toponymName': 'Seoul',\n",
       "   'fcodeName': 'capital of a political entity',\n",
       "   'wikipedia': 'en.wikipedia.org/wiki/Seoul',\n",
       "   'lat': 37.566,\n",
       "   'fcl': 'P',\n",
       "   'population': 10349312,\n",
       "   'fcode': 'PPLC'},\n",
       "  {'lng': 106.84513092041016,\n",
       "   'geonameId': 1642911,\n",
       "   'countrycode': 'ID',\n",
       "   'name': 'Jakarta',\n",
       "   'fclName': 'city, village,...',\n",
       "   'toponymName': 'Jakarta',\n",
       "   'fcodeName': 'capital of a political entity',\n",
       "   'wikipedia': 'en.wikipedia.org/wiki/Jakarta',\n",
       "   'lat': -6.214623197035775,\n",
       "   'fcl': 'P',\n",
       "   'population': 8540121,\n",
       "   'fcode': 'PPLC'},\n",
       "  {'lng': 139.69171,\n",
       "   'geonameId': 1850147,\n",
       "   'countrycode': 'JP',\n",
       "   'name': 'Tokio',\n",
       "   'fclName': 'city, village,...',\n",
       "   'toponymName': 'Tokyo',\n",
       "   'fcodeName': 'capital of a political entity',\n",
       "   'wikipedia': 'de.wikipedia.org/wiki/Tokyo',\n",
       "   'lat': 35.6895,\n",
       "   'fcl': 'P',\n",
       "   'population': 8336599,\n",
       "   'fcode': 'PPLC'},\n",
       "  {'lng': 121.531846,\n",
       "   'geonameId': 1668341,\n",
       "   'countrycode': 'TW',\n",
       "   'name': 'Taipeh',\n",
       "   'fclName': 'city, village,...',\n",
       "   'toponymName': 'Taipei',\n",
       "   'fcodeName': 'capital of a political entity',\n",
       "   'wikipedia': 'de.wikipedia.org/wiki/Taipei',\n",
       "   'lat': 25.047763,\n",
       "   'fcl': 'P',\n",
       "   'population': 7871900,\n",
       "   'fcode': 'PPLC'},\n",
       "  {'lng': -74.08175468444824,\n",
       "   'geonameId': 3688689,\n",
       "   'countrycode': 'CO',\n",
       "   'name': 'Bogota',\n",
       "   'fclName': 'city, village,...',\n",
       "   'toponymName': 'Bogotá',\n",
       "   'fcodeName': 'capital of a political entity',\n",
       "   'wikipedia': 'en.wikipedia.org/wiki/Bogot%C3%A1',\n",
       "   'lat': 4.609705849789108,\n",
       "   'fcl': 'P',\n",
       "   'population': 7674366,\n",
       "   'fcode': 'PPLC'},\n",
       "  {'lng': 114.17469,\n",
       "   'geonameId': 1819729,\n",
       "   'countrycode': 'HK',\n",
       "   'name': 'Hongkong',\n",
       "   'fclName': 'city, village,...',\n",
       "   'toponymName': 'Hong Kong',\n",
       "   'fcodeName': 'capital of a political entity',\n",
       "   'wikipedia': 'en.wikipedia.org/wiki/Hong_Kong',\n",
       "   'lat': 22.27832,\n",
       "   'fcl': 'P',\n",
       "   'population': 7012738,\n",
       "   'fcode': 'PPLC'},\n",
       "  {'lng': 100.501444,\n",
       "   'geonameId': 1609350,\n",
       "   'countrycode': 'TH',\n",
       "   'name': 'Bangkok',\n",
       "   'fclName': 'city, village,...',\n",
       "   'toponymName': 'Bangkok',\n",
       "   'fcodeName': 'capital of a political entity',\n",
       "   'wikipedia': 'en.wikipedia.org/wiki/Bangkok',\n",
       "   'lat': 13.753979,\n",
       "   'fcl': 'P',\n",
       "   'population': 5104476,\n",
       "   'fcode': 'PPLC'}]}"
      ]
     },
     "execution_count": 17,
     "metadata": {},
     "output_type": "execute_result"
    }
   ],
   "source": [
    "response.json()"
   ]
  },
  {
   "cell_type": "code",
   "execution_count": 18,
   "metadata": {},
   "outputs": [],
   "source": [
    "data = json.loads(response.text)"
   ]
  },
  {
   "cell_type": "code",
   "execution_count": 19,
   "metadata": {},
   "outputs": [
    {
     "data": {
      "text/plain": [
       "{'geonames': [{'lng': -99.12766456604,\n",
       "   'geonameId': 3530597,\n",
       "   'countrycode': 'MX',\n",
       "   'name': 'Mexiko-Stadt',\n",
       "   'fclName': 'city, village,...',\n",
       "   'toponymName': 'Mexico City',\n",
       "   'fcodeName': 'capital of a political entity',\n",
       "   'wikipedia': 'en.wikipedia.org/wiki/Mexico_City',\n",
       "   'lat': 19.428472427036,\n",
       "   'fcl': 'P',\n",
       "   'population': 12294193,\n",
       "   'fcode': 'PPLC'},\n",
       "  {'lng': 116.397228240967,\n",
       "   'geonameId': 1816670,\n",
       "   'countrycode': 'CN',\n",
       "   'name': 'Peking',\n",
       "   'fclName': 'city, village,...',\n",
       "   'toponymName': 'Beijing',\n",
       "   'fcodeName': 'capital of a political entity',\n",
       "   'wikipedia': 'en.wikipedia.org/wiki/Beijing',\n",
       "   'lat': 39.9074977414405,\n",
       "   'fcl': 'P',\n",
       "   'population': 11716620,\n",
       "   'fcode': 'PPLC'},\n",
       "  {'lng': 90.40743827819824,\n",
       "   'geonameId': 1185241,\n",
       "   'countrycode': 'BD',\n",
       "   'name': 'Dhaka',\n",
       "   'fclName': 'city, village,...',\n",
       "   'toponymName': 'Dhaka',\n",
       "   'fcodeName': 'capital of a political entity',\n",
       "   'wikipedia': 'en.wikipedia.org/wiki/Dhaka',\n",
       "   'lat': 23.710395616597037,\n",
       "   'fcl': 'P',\n",
       "   'population': 10356500,\n",
       "   'fcode': 'PPLC'},\n",
       "  {'lng': 126.9784,\n",
       "   'geonameId': 1835848,\n",
       "   'countrycode': 'KR',\n",
       "   'name': 'Seoul',\n",
       "   'fclName': 'city, village,...',\n",
       "   'toponymName': 'Seoul',\n",
       "   'fcodeName': 'capital of a political entity',\n",
       "   'wikipedia': 'en.wikipedia.org/wiki/Seoul',\n",
       "   'lat': 37.566,\n",
       "   'fcl': 'P',\n",
       "   'population': 10349312,\n",
       "   'fcode': 'PPLC'},\n",
       "  {'lng': 106.84513092041016,\n",
       "   'geonameId': 1642911,\n",
       "   'countrycode': 'ID',\n",
       "   'name': 'Jakarta',\n",
       "   'fclName': 'city, village,...',\n",
       "   'toponymName': 'Jakarta',\n",
       "   'fcodeName': 'capital of a political entity',\n",
       "   'wikipedia': 'en.wikipedia.org/wiki/Jakarta',\n",
       "   'lat': -6.214623197035775,\n",
       "   'fcl': 'P',\n",
       "   'population': 8540121,\n",
       "   'fcode': 'PPLC'},\n",
       "  {'lng': 139.69171,\n",
       "   'geonameId': 1850147,\n",
       "   'countrycode': 'JP',\n",
       "   'name': 'Tokio',\n",
       "   'fclName': 'city, village,...',\n",
       "   'toponymName': 'Tokyo',\n",
       "   'fcodeName': 'capital of a political entity',\n",
       "   'wikipedia': 'de.wikipedia.org/wiki/Tokyo',\n",
       "   'lat': 35.6895,\n",
       "   'fcl': 'P',\n",
       "   'population': 8336599,\n",
       "   'fcode': 'PPLC'},\n",
       "  {'lng': 121.531846,\n",
       "   'geonameId': 1668341,\n",
       "   'countrycode': 'TW',\n",
       "   'name': 'Taipeh',\n",
       "   'fclName': 'city, village,...',\n",
       "   'toponymName': 'Taipei',\n",
       "   'fcodeName': 'capital of a political entity',\n",
       "   'wikipedia': 'de.wikipedia.org/wiki/Taipei',\n",
       "   'lat': 25.047763,\n",
       "   'fcl': 'P',\n",
       "   'population': 7871900,\n",
       "   'fcode': 'PPLC'},\n",
       "  {'lng': -74.08175468444824,\n",
       "   'geonameId': 3688689,\n",
       "   'countrycode': 'CO',\n",
       "   'name': 'Bogota',\n",
       "   'fclName': 'city, village,...',\n",
       "   'toponymName': 'Bogotá',\n",
       "   'fcodeName': 'capital of a political entity',\n",
       "   'wikipedia': 'en.wikipedia.org/wiki/Bogot%C3%A1',\n",
       "   'lat': 4.609705849789108,\n",
       "   'fcl': 'P',\n",
       "   'population': 7674366,\n",
       "   'fcode': 'PPLC'},\n",
       "  {'lng': 114.17469,\n",
       "   'geonameId': 1819729,\n",
       "   'countrycode': 'HK',\n",
       "   'name': 'Hongkong',\n",
       "   'fclName': 'city, village,...',\n",
       "   'toponymName': 'Hong Kong',\n",
       "   'fcodeName': 'capital of a political entity',\n",
       "   'wikipedia': 'en.wikipedia.org/wiki/Hong_Kong',\n",
       "   'lat': 22.27832,\n",
       "   'fcl': 'P',\n",
       "   'population': 7012738,\n",
       "   'fcode': 'PPLC'},\n",
       "  {'lng': 100.501444,\n",
       "   'geonameId': 1609350,\n",
       "   'countrycode': 'TH',\n",
       "   'name': 'Bangkok',\n",
       "   'fclName': 'city, village,...',\n",
       "   'toponymName': 'Bangkok',\n",
       "   'fcodeName': 'capital of a political entity',\n",
       "   'wikipedia': 'en.wikipedia.org/wiki/Bangkok',\n",
       "   'lat': 13.753979,\n",
       "   'fcl': 'P',\n",
       "   'population': 5104476,\n",
       "   'fcode': 'PPLC'}]}"
      ]
     },
     "execution_count": 19,
     "metadata": {},
     "output_type": "execute_result"
    }
   ],
   "source": [
    "data"
   ]
  },
  {
   "cell_type": "code",
   "execution_count": 20,
   "metadata": {},
   "outputs": [
    {
     "name": "stdout",
     "output_type": "stream",
     "text": [
      "{'lng': -99.12766456604, 'geonameId': 3530597, 'countrycode': 'MX', 'name': 'Mexiko-Stadt', 'fclName': 'city, village,...', 'toponymName': 'Mexico City', 'fcodeName': 'capital of a political entity', 'wikipedia': 'en.wikipedia.org/wiki/Mexico_City', 'lat': 19.428472427036, 'fcl': 'P', 'population': 12294193, 'fcode': 'PPLC'}\n",
      "{'lng': 116.397228240967, 'geonameId': 1816670, 'countrycode': 'CN', 'name': 'Peking', 'fclName': 'city, village,...', 'toponymName': 'Beijing', 'fcodeName': 'capital of a political entity', 'wikipedia': 'en.wikipedia.org/wiki/Beijing', 'lat': 39.9074977414405, 'fcl': 'P', 'population': 11716620, 'fcode': 'PPLC'}\n",
      "{'lng': 90.40743827819824, 'geonameId': 1185241, 'countrycode': 'BD', 'name': 'Dhaka', 'fclName': 'city, village,...', 'toponymName': 'Dhaka', 'fcodeName': 'capital of a political entity', 'wikipedia': 'en.wikipedia.org/wiki/Dhaka', 'lat': 23.710395616597037, 'fcl': 'P', 'population': 10356500, 'fcode': 'PPLC'}\n",
      "{'lng': 126.9784, 'geonameId': 1835848, 'countrycode': 'KR', 'name': 'Seoul', 'fclName': 'city, village,...', 'toponymName': 'Seoul', 'fcodeName': 'capital of a political entity', 'wikipedia': 'en.wikipedia.org/wiki/Seoul', 'lat': 37.566, 'fcl': 'P', 'population': 10349312, 'fcode': 'PPLC'}\n",
      "{'lng': 106.84513092041016, 'geonameId': 1642911, 'countrycode': 'ID', 'name': 'Jakarta', 'fclName': 'city, village,...', 'toponymName': 'Jakarta', 'fcodeName': 'capital of a political entity', 'wikipedia': 'en.wikipedia.org/wiki/Jakarta', 'lat': -6.214623197035775, 'fcl': 'P', 'population': 8540121, 'fcode': 'PPLC'}\n",
      "{'lng': 139.69171, 'geonameId': 1850147, 'countrycode': 'JP', 'name': 'Tokio', 'fclName': 'city, village,...', 'toponymName': 'Tokyo', 'fcodeName': 'capital of a political entity', 'wikipedia': 'de.wikipedia.org/wiki/Tokyo', 'lat': 35.6895, 'fcl': 'P', 'population': 8336599, 'fcode': 'PPLC'}\n",
      "{'lng': 121.531846, 'geonameId': 1668341, 'countrycode': 'TW', 'name': 'Taipeh', 'fclName': 'city, village,...', 'toponymName': 'Taipei', 'fcodeName': 'capital of a political entity', 'wikipedia': 'de.wikipedia.org/wiki/Taipei', 'lat': 25.047763, 'fcl': 'P', 'population': 7871900, 'fcode': 'PPLC'}\n",
      "{'lng': -74.08175468444824, 'geonameId': 3688689, 'countrycode': 'CO', 'name': 'Bogota', 'fclName': 'city, village,...', 'toponymName': 'Bogotá', 'fcodeName': 'capital of a political entity', 'wikipedia': 'en.wikipedia.org/wiki/Bogot%C3%A1', 'lat': 4.609705849789108, 'fcl': 'P', 'population': 7674366, 'fcode': 'PPLC'}\n",
      "{'lng': 114.17469, 'geonameId': 1819729, 'countrycode': 'HK', 'name': 'Hongkong', 'fclName': 'city, village,...', 'toponymName': 'Hong Kong', 'fcodeName': 'capital of a political entity', 'wikipedia': 'en.wikipedia.org/wiki/Hong_Kong', 'lat': 22.27832, 'fcl': 'P', 'population': 7012738, 'fcode': 'PPLC'}\n",
      "{'lng': 100.501444, 'geonameId': 1609350, 'countrycode': 'TH', 'name': 'Bangkok', 'fclName': 'city, village,...', 'toponymName': 'Bangkok', 'fcodeName': 'capital of a political entity', 'wikipedia': 'en.wikipedia.org/wiki/Bangkok', 'lat': 13.753979, 'fcl': 'P', 'population': 5104476, 'fcode': 'PPLC'}\n"
     ]
    }
   ],
   "source": [
    "for item in data['geonames']:\n",
    "    print(item)"
   ]
  },
  {
   "cell_type": "code",
   "execution_count": 22,
   "metadata": {},
   "outputs": [
    {
     "data": {
      "text/plain": [
       "'en.wikipedia.org/wiki/Mexico_City'"
      ]
     },
     "execution_count": 22,
     "metadata": {},
     "output_type": "execute_result"
    }
   ],
   "source": [
    "data['geonames'][0]['wikipedia']"
   ]
  },
  {
   "cell_type": "code",
   "execution_count": null,
   "metadata": {},
   "outputs": [],
   "source": []
  }
 ],
 "metadata": {
  "kernelspec": {
   "display_name": "Python 3",
   "language": "python",
   "name": "python3"
  },
  "language_info": {
   "codemirror_mode": {
    "name": "ipython",
    "version": 3
   },
   "file_extension": ".py",
   "mimetype": "text/x-python",
   "name": "python",
   "nbconvert_exporter": "python",
   "pygments_lexer": "ipython3",
   "version": "3.8.5"
  }
 },
 "nbformat": 4,
 "nbformat_minor": 4
}
